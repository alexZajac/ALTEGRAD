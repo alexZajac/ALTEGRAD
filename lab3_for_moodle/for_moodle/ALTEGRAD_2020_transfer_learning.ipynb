{
  "nbformat": 4,
  "nbformat_minor": 0,
  "metadata": {
    "colab": {
      "name": "ALTEGRAD_2020_transfer_learning.ipynb",
      "provenance": [],
      "collapsed_sections": []
    },
    "kernelspec": {
      "name": "python3",
      "display_name": "Python 3"
    },
    "accelerator": "GPU"
  },
  "cells": [
    {
      "cell_type": "markdown",
      "metadata": {
        "id": "DlAfI8mCWAf3"
      },
      "source": [
        "# Transfer learning for NLP\n",
        "## ALTEGRAD - Lab session 3\n",
        "#### Moussa Kamal Eddine, Hadi Abdine (Dascim LIX)\n",
        "##### November 2020"
      ]
    },
    {
      "cell_type": "code",
      "metadata": {
        "id": "IqukuIe0Rb_c"
      },
      "source": [
        "import math\n",
        "\n",
        "import torch\n",
        "import torch.nn as nn\n",
        "from torch.nn.utils.rnn import pad_sequence\n",
        "\n",
        "device = torch.device(\"cuda\" if torch.cuda.is_available() else \"cpu\")"
      ],
      "execution_count": 1,
      "outputs": []
    },
    {
      "cell_type": "markdown",
      "metadata": {
        "id": "5FF6fjkqgN39"
      },
      "source": [
        "### The Model"
      ]
    },
    {
      "cell_type": "code",
      "metadata": {
        "id": "p0cj9WkSFQwl"
      },
      "source": [
        "class TransformerModel(nn.Module):\n",
        "    def __init__(self, ntoken, nhead, nhid, nlayers, dropout=0.5):\n",
        "        super(TransformerModel, self).__init__()\n",
        "        '''\n",
        "        ntokens: the size of vocabulary\n",
        "        nhid: the hidden dimension of the model.\n",
        "        We assume that embedding_dim = nhid\n",
        "        nlayers: the number of nn.TransformerEncoderLayer in nn.TransformerEncoder\n",
        "        nhead: the number of heads in the multiheadattention models\n",
        "        dropout: the dropout value\n",
        "         '''\n",
        "        self.model_type = \"Transformer\"\n",
        "        self.encoder = nn.Embedding(ntoken, nhid) # fill me, nhid = the dim_embed\n",
        "        self.pos_encoder = PositionalEncoding(nhid, dropout) #fill me, the PositionalEncoding class is implemented in the next cell\n",
        "        encoder_layers = nn.TransformerEncoderLayer(nhid, nhead, nhid, dropout) #fill me we assume nhid = d_model = dim_feedforward\n",
        "        self.transformer_encoder = nn.TransformerEncoder(encoder_layers, nlayers) #fill me\n",
        "        self.nhid = nhid\n",
        "        self.init_weights()\n",
        "\n",
        "    def generate_square_subsequent_mask(self, sz):\n",
        "        mask = (torch.triu(torch.ones(sz, sz)) == 1).transpose(0, 1)\n",
        "        mask = (\n",
        "            mask.float()\n",
        "            .masked_fill(mask == 0, float(\"-inf\"))\n",
        "            .masked_fill(mask == 1, float(0.0))\n",
        "        )\n",
        "        return mask\n",
        "\n",
        "    def init_weights(self):\n",
        "        initrange = 0.1\n",
        "        self.encoder.weight.data.uniform_(-initrange, initrange)\n",
        "\n",
        "    def forward(self, src, src_mask):\n",
        "        src = self.encoder(src) * math.sqrt(self.nhid) \n",
        "        src = self.pos_encoder(src)\n",
        "        output = self.transformer_encoder(src, src_mask)\n",
        "        return output\n",
        "\n",
        "\n",
        "class ClassificationHead(nn.Module):\n",
        "    def __init__(self, nhid, nclasses):\n",
        "        super(ClassificationHead, self).__init__()\n",
        "        self.decoder = nn.Linear(nhid, nclasses)\n",
        "        self.init_weights()\n",
        "\n",
        "    def init_weights(self):\n",
        "        initrange = 0.1\n",
        "        self.decoder.bias.data.zero_()\n",
        "        self.decoder.weight.data.uniform_(-initrange, initrange)\n",
        "\n",
        "    def forward(self, src):\n",
        "        output = self.decoder(src)\n",
        "        return output\n",
        "    \n",
        "class Model(nn.Module):\n",
        "    def __init__(self, ntoken, nhead, nhid, nlayers, nclasses, dropout=0.5):\n",
        "        super(Model, self).__init__()\n",
        "        self.base = TransformerModel(ntoken, nhead, nhid, nlayers, dropout)#fill me\n",
        "        self.classifier = ClassificationHead(nhid, nclasses) #fill me \n",
        "\n",
        "    def forward(self, src, src_mask):\n",
        "        # base model\n",
        "        x = self.base.forward(src, src_mask) #fill me\n",
        "        # classifier model\n",
        "        output = self.classifier.forward(x)#fill me\n",
        "        return output"
      ],
      "execution_count": 2,
      "outputs": []
    },
    {
      "cell_type": "code",
      "metadata": {
        "id": "kt2QQohaFZry"
      },
      "source": [
        "class PositionalEncoding(nn.Module):\n",
        "    def __init__(self, nhid, dropout=0.1, max_len=5000):\n",
        "        super(PositionalEncoding, self).__init__()\n",
        "        self.dropout = nn.Dropout(p=dropout)\n",
        "\n",
        "        pe = torch.zeros(max_len, nhid)\n",
        "        position = torch.arange(0, max_len, dtype=torch.float).unsqueeze(1)\n",
        "        div_term = torch.exp(\n",
        "            torch.arange(0, nhid, 2).float() * (-math.log(10000.0) / nhid)\n",
        "        )\n",
        "        pe[:, 0::2] = torch.sin(position * div_term)\n",
        "        pe[:, 1::2] = torch.cos(position * div_term)\n",
        "        pe = pe.unsqueeze(0).transpose(0, 1)\n",
        "        self.register_buffer(\"pe\", pe)\n",
        "\n",
        "    def forward(self, x):\n",
        "        x = x + self.pe[:x.size(0), :]\n",
        "        return self.dropout(x)"
      ],
      "execution_count": 3,
      "outputs": []
    },
    {
      "cell_type": "markdown",
      "metadata": {
        "id": "SfEYHJx2JW6l"
      },
      "source": [
        "Let's verify if our model works, by applying one inference step"
      ]
    },
    {
      "cell_type": "code",
      "metadata": {
        "id": "rhb2gkUhJMR0",
        "colab": {
          "base_uri": "https://localhost:8080/"
        },
        "outputId": "777d1a1e-c48c-414b-cb4a-7f1b6e0863d2"
      },
      "source": [
        "ntokens = 100 #fill me # the size of vocabulary\n",
        "nhid = 200  # hidden dimension\n",
        "nlayers = 4  # the number of nn.TransformerEncoderLayer in nn.TransformerEncoder\n",
        "nhead = 2  # the number of heads in the multiheadattention models\n",
        "dropout = 0  # the dropout value\n",
        "\n",
        "model = Model(ntokens, nhead, nhid, nlayers, ntokens, dropout).to(device)\n",
        "dummy_input = torch.tensor([[2, 6, 2, 5, 43, 21]]).to(device)\n",
        "src_mask = model.base.generate_square_subsequent_mask(1).to(device)\n",
        "out = model.forward(dummy_input, src_mask)\n",
        "\n",
        "print(out.shape) # is it the right shape? -> yes (probability of the 6 tokens to follow the input 6 tokens, with 100 possible classes for each)"
      ],
      "execution_count": 4,
      "outputs": [
        {
          "output_type": "stream",
          "text": [
            "torch.Size([1, 6, 100])\n"
          ],
          "name": "stdout"
        }
      ]
    },
    {
      "cell_type": "code",
      "metadata": {
        "colab": {
          "base_uri": "https://localhost:8080/"
        },
        "id": "oUnumRQQBaFl",
        "outputId": "ba5a4049-6560-408c-dd13-efe27c754a52"
      },
      "source": [
        "from prettytable import PrettyTable\n",
        "\n",
        "def count_parameters(model):\n",
        "    table = PrettyTable([\"Modules\", \"Parameters\"])\n",
        "    total_params = 0\n",
        "    for name, parameter in model.named_parameters():\n",
        "        if not parameter.requires_grad: \n",
        "            continue\n",
        "        param = parameter.numel()\n",
        "        table.add_row([name, param])\n",
        "        total_params += param\n",
        "    print(table)\n",
        "    print(f\"Total Trainable Params: {total_params}\")\n",
        "    return total_params\n",
        "    \n",
        "count_parameters(model)"
      ],
      "execution_count": 5,
      "outputs": [
        {
          "output_type": "stream",
          "text": [
            "+-------------------------------------------------------------+------------+\n",
            "|                           Modules                           | Parameters |\n",
            "+-------------------------------------------------------------+------------+\n",
            "|                     base.encoder.weight                     |   20000    |\n",
            "|  base.transformer_encoder.layers.0.self_attn.in_proj_weight |   120000   |\n",
            "|   base.transformer_encoder.layers.0.self_attn.in_proj_bias  |    600     |\n",
            "| base.transformer_encoder.layers.0.self_attn.out_proj.weight |   40000    |\n",
            "|  base.transformer_encoder.layers.0.self_attn.out_proj.bias  |    200     |\n",
            "|       base.transformer_encoder.layers.0.linear1.weight      |   40000    |\n",
            "|        base.transformer_encoder.layers.0.linear1.bias       |    200     |\n",
            "|       base.transformer_encoder.layers.0.linear2.weight      |   40000    |\n",
            "|        base.transformer_encoder.layers.0.linear2.bias       |    200     |\n",
            "|        base.transformer_encoder.layers.0.norm1.weight       |    200     |\n",
            "|         base.transformer_encoder.layers.0.norm1.bias        |    200     |\n",
            "|        base.transformer_encoder.layers.0.norm2.weight       |    200     |\n",
            "|         base.transformer_encoder.layers.0.norm2.bias        |    200     |\n",
            "|  base.transformer_encoder.layers.1.self_attn.in_proj_weight |   120000   |\n",
            "|   base.transformer_encoder.layers.1.self_attn.in_proj_bias  |    600     |\n",
            "| base.transformer_encoder.layers.1.self_attn.out_proj.weight |   40000    |\n",
            "|  base.transformer_encoder.layers.1.self_attn.out_proj.bias  |    200     |\n",
            "|       base.transformer_encoder.layers.1.linear1.weight      |   40000    |\n",
            "|        base.transformer_encoder.layers.1.linear1.bias       |    200     |\n",
            "|       base.transformer_encoder.layers.1.linear2.weight      |   40000    |\n",
            "|        base.transformer_encoder.layers.1.linear2.bias       |    200     |\n",
            "|        base.transformer_encoder.layers.1.norm1.weight       |    200     |\n",
            "|         base.transformer_encoder.layers.1.norm1.bias        |    200     |\n",
            "|        base.transformer_encoder.layers.1.norm2.weight       |    200     |\n",
            "|         base.transformer_encoder.layers.1.norm2.bias        |    200     |\n",
            "|  base.transformer_encoder.layers.2.self_attn.in_proj_weight |   120000   |\n",
            "|   base.transformer_encoder.layers.2.self_attn.in_proj_bias  |    600     |\n",
            "| base.transformer_encoder.layers.2.self_attn.out_proj.weight |   40000    |\n",
            "|  base.transformer_encoder.layers.2.self_attn.out_proj.bias  |    200     |\n",
            "|       base.transformer_encoder.layers.2.linear1.weight      |   40000    |\n",
            "|        base.transformer_encoder.layers.2.linear1.bias       |    200     |\n",
            "|       base.transformer_encoder.layers.2.linear2.weight      |   40000    |\n",
            "|        base.transformer_encoder.layers.2.linear2.bias       |    200     |\n",
            "|        base.transformer_encoder.layers.2.norm1.weight       |    200     |\n",
            "|         base.transformer_encoder.layers.2.norm1.bias        |    200     |\n",
            "|        base.transformer_encoder.layers.2.norm2.weight       |    200     |\n",
            "|         base.transformer_encoder.layers.2.norm2.bias        |    200     |\n",
            "|  base.transformer_encoder.layers.3.self_attn.in_proj_weight |   120000   |\n",
            "|   base.transformer_encoder.layers.3.self_attn.in_proj_bias  |    600     |\n",
            "| base.transformer_encoder.layers.3.self_attn.out_proj.weight |   40000    |\n",
            "|  base.transformer_encoder.layers.3.self_attn.out_proj.bias  |    200     |\n",
            "|       base.transformer_encoder.layers.3.linear1.weight      |   40000    |\n",
            "|        base.transformer_encoder.layers.3.linear1.bias       |    200     |\n",
            "|       base.transformer_encoder.layers.3.linear2.weight      |   40000    |\n",
            "|        base.transformer_encoder.layers.3.linear2.bias       |    200     |\n",
            "|        base.transformer_encoder.layers.3.norm1.weight       |    200     |\n",
            "|         base.transformer_encoder.layers.3.norm1.bias        |    200     |\n",
            "|        base.transformer_encoder.layers.3.norm2.weight       |    200     |\n",
            "|         base.transformer_encoder.layers.3.norm2.bias        |    200     |\n",
            "|                  classifier.decoder.weight                  |   20000    |\n",
            "|                   classifier.decoder.bias                   |    100     |\n",
            "+-------------------------------------------------------------+------------+\n",
            "Total Trainable Params: 1008100\n"
          ],
          "name": "stdout"
        },
        {
          "output_type": "execute_result",
          "data": {
            "text/plain": [
              "1008100"
            ]
          },
          "metadata": {
            "tags": []
          },
          "execution_count": 5
        }
      ]
    },
    {
      "cell_type": "markdown",
      "metadata": {
        "id": "i74NN897Fcit"
      },
      "source": [
        "## Vocabulary and Tokenization"
      ]
    },
    {
      "cell_type": "code",
      "metadata": {
        "id": "5qjd26ghWuff",
        "colab": {
          "base_uri": "https://localhost:8080/"
        },
        "outputId": "77443559-0739-4904-9b8c-afba7d3e073e"
      },
      "source": [
        "!wget https://raw.githubusercontent.com/moussaKam/transfer_learning_transformers/main/dict.txt\n",
        "!head -5 dict.txt"
      ],
      "execution_count": 6,
      "outputs": [
        {
          "output_type": "stream",
          "text": [
            "--2020-12-01 19:41:34--  https://raw.githubusercontent.com/moussaKam/transfer_learning_transformers/main/dict.txt\n",
            "Resolving raw.githubusercontent.com (raw.githubusercontent.com)... 151.101.0.133, 151.101.64.133, 151.101.128.133, ...\n",
            "Connecting to raw.githubusercontent.com (raw.githubusercontent.com)|151.101.0.133|:443... connected.\n",
            "HTTP request sent, awaiting response... 200 OK\n",
            "Length: 577587 (564K) [text/plain]\n",
            "Saving to: ‘dict.txt’\n",
            "\n",
            "dict.txt            100%[===================>] 564.05K  --.-KB/s    in 0.01s   \n",
            "\n",
            "2020-12-01 19:41:35 (42.5 MB/s) - ‘dict.txt’ saved [577587/577587]\n",
            "\n",
            "▁d 1\n",
            "es 1\n",
            "▁l 1\n",
            "en 1\n",
            "on 1\n"
          ],
          "name": "stdout"
        }
      ]
    },
    {
      "cell_type": "code",
      "metadata": {
        "id": "vFdH_-JeFbGA",
        "colab": {
          "base_uri": "https://localhost:8080/"
        },
        "outputId": "46466549-4bfd-40ed-e1ad-ef273c4be9ff"
      },
      "source": [
        "path_vocab = \"dict.txt\"\n",
        "token2ind = {\"<sos>\": 0, \"<pad>\": 1, \"<eos>\": 2, \"<oov>\": 3} # the 4 first indices are reserved to special tokens\n",
        "decay = len(token2ind)\n",
        "with open(path_vocab, \"r\") as f:\n",
        "    for idx, line in enumerate(f):\n",
        "        word = line.split()[0].strip()\n",
        "        token2ind[word] = idx + decay #fill me\n",
        "\n",
        "ind2token = {ind: token for token, ind in token2ind.items()} #fill me\n",
        "\n",
        "print(ind2token[1111])"
      ],
      "execution_count": 7,
      "outputs": [
        {
          "output_type": "stream",
          "text": [
            "▁trop\n"
          ],
          "name": "stdout"
        }
      ]
    },
    {
      "cell_type": "markdown",
      "metadata": {
        "id": "XOExGODajN8p"
      },
      "source": [
        "### Data Loader\n"
      ]
    },
    {
      "cell_type": "code",
      "metadata": {
        "id": "Y0jN-Ar9i5Q1"
      },
      "source": [
        "import numpy\n",
        "import torch\n",
        "from torch.nn.utils.rnn import pad_sequence\n",
        "from torch.utils.data import DataLoader, Dataset\n",
        "\n",
        "\n",
        "class Dataset(Dataset):\n",
        "    def __init__(\n",
        "        self,\n",
        "        path_documents,\n",
        "        path_labels=None,\n",
        "        token2ind={},\n",
        "        max_len=512,\n",
        "        task=\"language_modeling\",\n",
        "    ):\n",
        "        self.task = task\n",
        "        self.max_len = max_len\n",
        "        self.token2ind = token2ind\n",
        "        self.documents = []\n",
        "        self.labels = []\n",
        "        with open(path_documents, \"r\") as f1:\n",
        "            for line in f1:\n",
        "                self.documents.append(line.strip())\n",
        "        if task == \"classification\":\n",
        "            with open(path_labels, \"r\") as f1:\n",
        "                for line in f1:\n",
        "                    self.labels.append(int(line.strip()))\n",
        "            assert len(self.labels) == len(self.documents)\n",
        "\n",
        "    def __len__(self):\n",
        "        return len(self.documents)\n",
        "\n",
        "    def __getitem__(self, index):\n",
        "        sequence = self.documents[index].split()\n",
        "        if len(sequence) > self.max_len - 1:\n",
        "            sequence = sequence[: self.max_len - 1]\n",
        "        source_sequence = [self.token2ind[\"<sos>\"]] + [\n",
        "            self.token2ind[word] if word in self.token2ind else self.token2ind[\"<oov>\"]\n",
        "            for word in sequence[: self.max_len]\n",
        "        ]\n",
        "        if self.task == \"language_modeling\":\n",
        "            target = source_sequence[1:]\n",
        "            target.append(self.token2ind[\"<eos>\"])\n",
        "        elif self.task == \"classification\":\n",
        "            target = [self.labels[index]]\n",
        "        sample = {\n",
        "            \"source_sequence\": torch.tensor(source_sequence),\n",
        "            \"target\": torch.tensor(target),\n",
        "        }\n",
        "        return sample\n",
        "\n",
        "\n",
        "def MyCollator(batch):\n",
        "    source_sequences = pad_sequence(\n",
        "        #we use padding to match the length of the sequences in the same batch\n",
        "        [sample[\"source_sequence\"] for sample in batch], padding_value=token2ind[\"<pad>\"]\n",
        "    )\n",
        "    target = pad_sequence(\n",
        "        [sample[\"target\"] for sample in batch], padding_value=token2ind[\"<pad>\"]\n",
        "    )\n",
        "    return source_sequences, target.reshape(-1)\n",
        "\n",
        "\n",
        "def get_loader(\n",
        "    path_documents,\n",
        "    path_labels=None,\n",
        "    token2ind={},\n",
        "    max_len=512,\n",
        "    batch_size=32,\n",
        "    task=\"language_modeling\",\n",
        "):\n",
        "    dataset = Dataset(\n",
        "        path_documents,\n",
        "        path_labels=path_labels,\n",
        "        token2ind=token2ind,\n",
        "        max_len=512,\n",
        "        task=task,\n",
        "    )\n",
        "    data_loader = DataLoader(\n",
        "        dataset=dataset,\n",
        "        batch_size=batch_size,\n",
        "        shuffle=True,\n",
        "        collate_fn=MyCollator,\n",
        "        pin_memory=True,\n",
        "        drop_last=True,\n",
        "    )\n",
        "    return data_loader"
      ],
      "execution_count": 8,
      "outputs": []
    },
    {
      "cell_type": "markdown",
      "metadata": {
        "id": "uTns4lHrjUTa"
      },
      "source": [
        "## The Training"
      ]
    },
    {
      "cell_type": "code",
      "metadata": {
        "id": "4_jwosiLjRsS"
      },
      "source": [
        "from tqdm import tqdm\n",
        "def train(\n",
        "    path_data_train,\n",
        "    path_labels_train=None,\n",
        "    path_data_valid=None,\n",
        "    save_interval=-1,\n",
        "    log_interval=5,\n",
        "    task=\"language_modeling\",\n",
        "    batch_size=32,\n",
        "):\n",
        "    model.train()\n",
        "    total_loss = 0.0\n",
        "    ntokens = len(token2ind)\n",
        "    data_loader = get_loader(\n",
        "        path_data_train,\n",
        "        path_labels_train,\n",
        "        token2ind,\n",
        "        task=task,\n",
        "        batch_size=batch_size,\n",
        "    )\n",
        "    \n",
        "    losses = []\n",
        "    with tqdm(total=len(data_loader)) as pbar:\n",
        "        for idx, data in enumerate(data_loader): #step 1\n",
        "            optimizer.zero_grad()\n",
        "            src_mask = model.base.generate_square_subsequent_mask(data[0].size(0)).to(\n",
        "                device\n",
        "            )\n",
        "            input = data[0].to(device)\n",
        "            output = model(input, src_mask) #step 2\n",
        "            if task == 'classification':\n",
        "                #last vector only\n",
        "                output = output[-1] #fill me \n",
        "            output = output.view(-1, output.shape[-1])\n",
        "            target = data[1] #fill me\n",
        "            target = target.to(device)\n",
        "            loss = criterion(output, target) #fill me, Cross entropy check next cells\n",
        "            #fill me step 3\n",
        "            loss.backward()\n",
        "            torch.nn.utils.clip_grad_norm_(model.parameters(), 0.5) # prevent exploding gradient \n",
        "            #fill me step 4\n",
        "            optimizer.step()\n",
        "            total_loss += loss.item() \n",
        "            if idx % log_interval == 0 and idx > 0:\n",
        "                cur_loss = total_loss / log_interval\n",
        "                print(\n",
        "                    \"| epoch {:3d} | {:5d}/{:5d} steps | \"\n",
        "                    \"loss {:5.5f} | ppl {:8.3f}\".format(\n",
        "                        epoch, idx, len(data_loader), cur_loss, math.exp(cur_loss),\n",
        "                    )\n",
        "                )\n",
        "                losses.append(cur_loss)\n",
        "                total_loss = 0\n",
        "            pbar.update(1)\n",
        "    return losses"
      ],
      "execution_count": 9,
      "outputs": []
    },
    {
      "cell_type": "code",
      "metadata": {
        "id": "pgf6BDB9jUr6",
        "colab": {
          "base_uri": "https://localhost:8080/"
        },
        "outputId": "1e92758b-a354-419e-ad29-d0ea7cf1483f"
      },
      "source": [
        "ntokens = len(ind2token) #fill me # the size of vocabulary\n",
        "nhid = 200  # the dimension of the feedforward network model in nn.TransformerEncoder\n",
        "nlayers = 4  # the number of nn.TransformerEncoderLayer in nn.TransformerEncoder\n",
        "nhead = 2  # the number of heads in the multiheadattention models\n",
        "dropout = 0  # the dropout value\n",
        "\n",
        "nclasses = 2 # for classification task only\n",
        "\n",
        "model = Model(ntokens, nhead, nhid, nlayers, ntokens, dropout).to(device)\n",
        "count_parameters(model)"
      ],
      "execution_count": 33,
      "outputs": [
        {
          "output_type": "stream",
          "text": [
            "+-------------------------------------------------------------+------------+\n",
            "|                           Modules                           | Parameters |\n",
            "+-------------------------------------------------------------+------------+\n",
            "|                     base.encoder.weight                     |  10000200  |\n",
            "|  base.transformer_encoder.layers.0.self_attn.in_proj_weight |   120000   |\n",
            "|   base.transformer_encoder.layers.0.self_attn.in_proj_bias  |    600     |\n",
            "| base.transformer_encoder.layers.0.self_attn.out_proj.weight |   40000    |\n",
            "|  base.transformer_encoder.layers.0.self_attn.out_proj.bias  |    200     |\n",
            "|       base.transformer_encoder.layers.0.linear1.weight      |   40000    |\n",
            "|        base.transformer_encoder.layers.0.linear1.bias       |    200     |\n",
            "|       base.transformer_encoder.layers.0.linear2.weight      |   40000    |\n",
            "|        base.transformer_encoder.layers.0.linear2.bias       |    200     |\n",
            "|        base.transformer_encoder.layers.0.norm1.weight       |    200     |\n",
            "|         base.transformer_encoder.layers.0.norm1.bias        |    200     |\n",
            "|        base.transformer_encoder.layers.0.norm2.weight       |    200     |\n",
            "|         base.transformer_encoder.layers.0.norm2.bias        |    200     |\n",
            "|  base.transformer_encoder.layers.1.self_attn.in_proj_weight |   120000   |\n",
            "|   base.transformer_encoder.layers.1.self_attn.in_proj_bias  |    600     |\n",
            "| base.transformer_encoder.layers.1.self_attn.out_proj.weight |   40000    |\n",
            "|  base.transformer_encoder.layers.1.self_attn.out_proj.bias  |    200     |\n",
            "|       base.transformer_encoder.layers.1.linear1.weight      |   40000    |\n",
            "|        base.transformer_encoder.layers.1.linear1.bias       |    200     |\n",
            "|       base.transformer_encoder.layers.1.linear2.weight      |   40000    |\n",
            "|        base.transformer_encoder.layers.1.linear2.bias       |    200     |\n",
            "|        base.transformer_encoder.layers.1.norm1.weight       |    200     |\n",
            "|         base.transformer_encoder.layers.1.norm1.bias        |    200     |\n",
            "|        base.transformer_encoder.layers.1.norm2.weight       |    200     |\n",
            "|         base.transformer_encoder.layers.1.norm2.bias        |    200     |\n",
            "|  base.transformer_encoder.layers.2.self_attn.in_proj_weight |   120000   |\n",
            "|   base.transformer_encoder.layers.2.self_attn.in_proj_bias  |    600     |\n",
            "| base.transformer_encoder.layers.2.self_attn.out_proj.weight |   40000    |\n",
            "|  base.transformer_encoder.layers.2.self_attn.out_proj.bias  |    200     |\n",
            "|       base.transformer_encoder.layers.2.linear1.weight      |   40000    |\n",
            "|        base.transformer_encoder.layers.2.linear1.bias       |    200     |\n",
            "|       base.transformer_encoder.layers.2.linear2.weight      |   40000    |\n",
            "|        base.transformer_encoder.layers.2.linear2.bias       |    200     |\n",
            "|        base.transformer_encoder.layers.2.norm1.weight       |    200     |\n",
            "|         base.transformer_encoder.layers.2.norm1.bias        |    200     |\n",
            "|        base.transformer_encoder.layers.2.norm2.weight       |    200     |\n",
            "|         base.transformer_encoder.layers.2.norm2.bias        |    200     |\n",
            "|  base.transformer_encoder.layers.3.self_attn.in_proj_weight |   120000   |\n",
            "|   base.transformer_encoder.layers.3.self_attn.in_proj_bias  |    600     |\n",
            "| base.transformer_encoder.layers.3.self_attn.out_proj.weight |   40000    |\n",
            "|  base.transformer_encoder.layers.3.self_attn.out_proj.bias  |    200     |\n",
            "|       base.transformer_encoder.layers.3.linear1.weight      |   40000    |\n",
            "|        base.transformer_encoder.layers.3.linear1.bias       |    200     |\n",
            "|       base.transformer_encoder.layers.3.linear2.weight      |   40000    |\n",
            "|        base.transformer_encoder.layers.3.linear2.bias       |    200     |\n",
            "|        base.transformer_encoder.layers.3.norm1.weight       |    200     |\n",
            "|         base.transformer_encoder.layers.3.norm1.bias        |    200     |\n",
            "|        base.transformer_encoder.layers.3.norm2.weight       |    200     |\n",
            "|         base.transformer_encoder.layers.3.norm2.bias        |    200     |\n",
            "|                  classifier.decoder.weight                  |  10000200  |\n",
            "|                   classifier.decoder.bias                   |   50001    |\n",
            "+-------------------------------------------------------------+------------+\n",
            "Total Trainable Params: 21018401\n"
          ],
          "name": "stdout"
        },
        {
          "output_type": "execute_result",
          "data": {
            "text/plain": [
              "21018401"
            ]
          },
          "metadata": {
            "tags": []
          },
          "execution_count": 33
        }
      ]
    },
    {
      "cell_type": "code",
      "metadata": {
        "id": "u-OLy4KIkDwf"
      },
      "source": [
        "# optimization paramerters\n",
        "\n",
        "criterion = nn.CrossEntropyLoss(ignore_index=token2ind['<pad>'])\n",
        "lr = 0.0003  # learning rate\n",
        "optimizer = torch.optim.Adam(model.parameters(), lr=lr)"
      ],
      "execution_count": 11,
      "outputs": []
    },
    {
      "cell_type": "code",
      "metadata": {
        "id": "Bwh3n9xZQy4e",
        "colab": {
          "base_uri": "https://localhost:8080/"
        },
        "outputId": "65d208d2-7887-4fa8-b51f-1488bad72d34"
      },
      "source": [
        "!wget https://raw.githubusercontent.com/moussaKam/transfer_learning_transformers/main/pretraining_subset.txt\n",
        "path_data_train = \"pretraining_subset.txt\""
      ],
      "execution_count": 12,
      "outputs": [
        {
          "output_type": "stream",
          "text": [
            "--2020-12-01 19:41:35--  https://raw.githubusercontent.com/moussaKam/transfer_learning_transformers/main/pretraining_subset.txt\n",
            "Resolving raw.githubusercontent.com (raw.githubusercontent.com)... 151.101.0.133, 151.101.64.133, 151.101.128.133, ...\n",
            "Connecting to raw.githubusercontent.com (raw.githubusercontent.com)|151.101.0.133|:443... connected.\n",
            "HTTP request sent, awaiting response... 200 OK\n",
            "Length: 10146460 (9.7M) [text/plain]\n",
            "Saving to: ‘pretraining_subset.txt’\n",
            "\n",
            "pretraining_subset. 100%[===================>]   9.68M  --.-KB/s    in 0.06s   \n",
            "\n",
            "2020-12-01 19:41:36 (150 MB/s) - ‘pretraining_subset.txt’ saved [10146460/10146460]\n",
            "\n"
          ],
          "name": "stdout"
        }
      ]
    },
    {
      "cell_type": "code",
      "metadata": {
        "id": "0m11g4ScjZaR",
        "colab": {
          "base_uri": "https://localhost:8080/"
        },
        "outputId": "48fe6928-0789-4129-f4be-9f5f84e74d8a"
      },
      "source": [
        "#pretraining on a tiny subset\n",
        "log_interval = 500\n",
        "epochs = 2\n",
        "for epoch in range(1, epochs + 1): #5\n",
        "    train(\n",
        "        path_data_train,\n",
        "        save_interval=-1,\n",
        "        task=\"language_modeling\",\n",
        "        batch_size=16,\n",
        "        log_interval=log_interval,\n",
        "    )"
      ],
      "execution_count": 13,
      "outputs": [
        {
          "output_type": "stream",
          "text": [
            " 16%|█▌        | 504/3125 [00:28<02:19, 18.84it/s]"
          ],
          "name": "stderr"
        },
        {
          "output_type": "stream",
          "text": [
            "| epoch   1 |   500/ 3125 steps | loss 7.33410 | ppl 1531.652\n"
          ],
          "name": "stdout"
        },
        {
          "output_type": "stream",
          "text": [
            " 32%|███▏      | 1003/3125 [00:56<02:04, 17.07it/s]"
          ],
          "name": "stderr"
        },
        {
          "output_type": "stream",
          "text": [
            "| epoch   1 |  1000/ 3125 steps | loss 6.47010 | ppl  645.547\n"
          ],
          "name": "stdout"
        },
        {
          "output_type": "stream",
          "text": [
            " 48%|████▊     | 1503/3125 [01:23<01:26, 18.80it/s]"
          ],
          "name": "stderr"
        },
        {
          "output_type": "stream",
          "text": [
            "| epoch   1 |  1500/ 3125 steps | loss 6.22080 | ppl  503.104\n"
          ],
          "name": "stdout"
        },
        {
          "output_type": "stream",
          "text": [
            " 64%|██████▍   | 2003/3125 [01:50<01:00, 18.55it/s]"
          ],
          "name": "stderr"
        },
        {
          "output_type": "stream",
          "text": [
            "| epoch   1 |  2000/ 3125 steps | loss 6.03337 | ppl  417.118\n"
          ],
          "name": "stdout"
        },
        {
          "output_type": "stream",
          "text": [
            " 80%|████████  | 2503/3125 [02:17<00:35, 17.38it/s]"
          ],
          "name": "stderr"
        },
        {
          "output_type": "stream",
          "text": [
            "| epoch   1 |  2500/ 3125 steps | loss 5.90512 | ppl  366.910\n"
          ],
          "name": "stdout"
        },
        {
          "output_type": "stream",
          "text": [
            " 96%|█████████▌| 3004/3125 [02:46<00:07, 16.45it/s]"
          ],
          "name": "stderr"
        },
        {
          "output_type": "stream",
          "text": [
            "| epoch   1 |  3000/ 3125 steps | loss 5.83983 | ppl  343.722\n"
          ],
          "name": "stdout"
        },
        {
          "output_type": "stream",
          "text": [
            "100%|██████████| 3125/3125 [02:53<00:00, 18.00it/s]\n",
            " 16%|█▌        | 503/3125 [00:28<02:47, 15.68it/s]"
          ],
          "name": "stderr"
        },
        {
          "output_type": "stream",
          "text": [
            "| epoch   2 |   500/ 3125 steps | loss 5.52702 | ppl  251.395\n"
          ],
          "name": "stdout"
        },
        {
          "output_type": "stream",
          "text": [
            " 32%|███▏      | 1004/3125 [00:56<02:01, 17.49it/s]"
          ],
          "name": "stderr"
        },
        {
          "output_type": "stream",
          "text": [
            "| epoch   2 |  1000/ 3125 steps | loss 5.48928 | ppl  242.083\n"
          ],
          "name": "stdout"
        },
        {
          "output_type": "stream",
          "text": [
            " 48%|████▊     | 1503/3125 [01:25<01:32, 17.56it/s]"
          ],
          "name": "stderr"
        },
        {
          "output_type": "stream",
          "text": [
            "| epoch   2 |  1500/ 3125 steps | loss 5.43897 | ppl  230.206\n"
          ],
          "name": "stdout"
        },
        {
          "output_type": "stream",
          "text": [
            " 64%|██████▍   | 2003/3125 [01:53<01:15, 14.95it/s]"
          ],
          "name": "stderr"
        },
        {
          "output_type": "stream",
          "text": [
            "| epoch   2 |  2000/ 3125 steps | loss 5.41326 | ppl  224.361\n"
          ],
          "name": "stdout"
        },
        {
          "output_type": "stream",
          "text": [
            " 80%|████████  | 2504/3125 [02:21<00:34, 17.82it/s]"
          ],
          "name": "stderr"
        },
        {
          "output_type": "stream",
          "text": [
            "| epoch   2 |  2500/ 3125 steps | loss 5.38002 | ppl  217.027\n"
          ],
          "name": "stdout"
        },
        {
          "output_type": "stream",
          "text": [
            " 96%|█████████▌| 3004/3125 [02:49<00:06, 19.95it/s]"
          ],
          "name": "stderr"
        },
        {
          "output_type": "stream",
          "text": [
            "| epoch   2 |  3000/ 3125 steps | loss 5.36011 | ppl  212.749\n"
          ],
          "name": "stdout"
        },
        {
          "output_type": "stream",
          "text": [
            "100%|██████████| 3125/3125 [02:56<00:00, 17.68it/s]\n"
          ],
          "name": "stderr"
        }
      ]
    },
    {
      "cell_type": "markdown",
      "metadata": {
        "id": "MeOM1dOvkO4e"
      },
      "source": [
        "## Text Generation\n"
      ]
    },
    {
      "cell_type": "code",
      "metadata": {
        "id": "-BcBC6FSkMH3",
        "colab": {
          "base_uri": "https://localhost:8080/"
        },
        "outputId": "5d0d06c5-441b-438c-c5f6-f12754e6c925"
      },
      "source": [
        "!wget https://raw.githubusercontent.com/moussaKam/transfer_learning_transformers/main/pretrained_model_4layers.pt\n",
        "\n",
        "model = Model(ntokens, nhead, nhid, nlayers, ntokens).to(device)\n",
        "\n",
        "#load the checkpoint\n",
        "checkpoint = torch.load('pretrained_model_4layers.pt') \n",
        "#load state dict\n",
        "model.load_state_dict(checkpoint['model_state_dict']) "
      ],
      "execution_count": 14,
      "outputs": [
        {
          "output_type": "stream",
          "text": [
            "--2020-12-01 19:47:26--  https://raw.githubusercontent.com/moussaKam/transfer_learning_transformers/main/pretrained_model_4layers.pt\n",
            "Resolving raw.githubusercontent.com (raw.githubusercontent.com)... 151.101.0.133, 151.101.64.133, 151.101.128.133, ...\n",
            "Connecting to raw.githubusercontent.com (raw.githubusercontent.com)|151.101.0.133|:443... connected.\n",
            "HTTP request sent, awaiting response... 200 OK\n",
            "Length: 88093955 (84M) [application/octet-stream]\n",
            "Saving to: ‘pretrained_model_4layers.pt’\n",
            "\n",
            "pretrained_model_4l 100%[===================>]  84.01M   361MB/s    in 0.2s    \n",
            "\n",
            "2020-12-01 19:47:27 (361 MB/s) - ‘pretrained_model_4layers.pt’ saved [88093955/88093955]\n",
            "\n"
          ],
          "name": "stdout"
        },
        {
          "output_type": "execute_result",
          "data": {
            "text/plain": [
              "<All keys matched successfully>"
            ]
          },
          "metadata": {
            "tags": []
          },
          "execution_count": 14
        }
      ]
    },
    {
      "cell_type": "code",
      "metadata": {
        "id": "tBRRVsWqlIoQ",
        "colab": {
          "base_uri": "https://localhost:8080/"
        },
        "outputId": "d726d0d2-0c15-48bb-905c-df7b4d0d8225"
      },
      "source": [
        "!pip install sentencepiece\n",
        "!wget https://raw.githubusercontent.com/moussaKam/transfer_learning_transformers/main/sentencepiece.french.model\n",
        "\n",
        "import sentencepiece as spm\n",
        "\n",
        "s = spm.SentencePieceProcessor(model_file='sentencepiece.french.model') #load sentencepiece model\n",
        "\n",
        "#examples\n",
        "encoded = s.encode_as_pieces(\"Bonjour les amis!\")\n",
        "decoded = s.decode_pieces(encoded)\n",
        "print(encoded)\n",
        "print(decoded)"
      ],
      "execution_count": 15,
      "outputs": [
        {
          "output_type": "stream",
          "text": [
            "Collecting sentencepiece\n",
            "\u001b[?25l  Downloading https://files.pythonhosted.org/packages/e5/2d/6d4ca4bef9a67070fa1cac508606328329152b1df10bdf31fb6e4e727894/sentencepiece-0.1.94-cp36-cp36m-manylinux2014_x86_64.whl (1.1MB)\n",
            "\r\u001b[K     |▎                               | 10kB 21.8MB/s eta 0:00:01\r\u001b[K     |▋                               | 20kB 29.0MB/s eta 0:00:01\r\u001b[K     |▉                               | 30kB 24.7MB/s eta 0:00:01\r\u001b[K     |█▏                              | 40kB 28.4MB/s eta 0:00:01\r\u001b[K     |█▌                              | 51kB 25.4MB/s eta 0:00:01\r\u001b[K     |█▊                              | 61kB 27.2MB/s eta 0:00:01\r\u001b[K     |██                              | 71kB 18.6MB/s eta 0:00:01\r\u001b[K     |██▍                             | 81kB 19.9MB/s eta 0:00:01\r\u001b[K     |██▋                             | 92kB 18.5MB/s eta 0:00:01\r\u001b[K     |███                             | 102kB 18.7MB/s eta 0:00:01\r\u001b[K     |███▎                            | 112kB 18.7MB/s eta 0:00:01\r\u001b[K     |███▌                            | 122kB 18.7MB/s eta 0:00:01\r\u001b[K     |███▉                            | 133kB 18.7MB/s eta 0:00:01\r\u001b[K     |████▏                           | 143kB 18.7MB/s eta 0:00:01\r\u001b[K     |████▍                           | 153kB 18.7MB/s eta 0:00:01\r\u001b[K     |████▊                           | 163kB 18.7MB/s eta 0:00:01\r\u001b[K     |█████                           | 174kB 18.7MB/s eta 0:00:01\r\u001b[K     |█████▎                          | 184kB 18.7MB/s eta 0:00:01\r\u001b[K     |█████▋                          | 194kB 18.7MB/s eta 0:00:01\r\u001b[K     |█████▉                          | 204kB 18.7MB/s eta 0:00:01\r\u001b[K     |██████▏                         | 215kB 18.7MB/s eta 0:00:01\r\u001b[K     |██████▌                         | 225kB 18.7MB/s eta 0:00:01\r\u001b[K     |██████▊                         | 235kB 18.7MB/s eta 0:00:01\r\u001b[K     |███████                         | 245kB 18.7MB/s eta 0:00:01\r\u001b[K     |███████▍                        | 256kB 18.7MB/s eta 0:00:01\r\u001b[K     |███████▋                        | 266kB 18.7MB/s eta 0:00:01\r\u001b[K     |████████                        | 276kB 18.7MB/s eta 0:00:01\r\u001b[K     |████████▎                       | 286kB 18.7MB/s eta 0:00:01\r\u001b[K     |████████▌                       | 296kB 18.7MB/s eta 0:00:01\r\u001b[K     |████████▉                       | 307kB 18.7MB/s eta 0:00:01\r\u001b[K     |█████████                       | 317kB 18.7MB/s eta 0:00:01\r\u001b[K     |█████████▍                      | 327kB 18.7MB/s eta 0:00:01\r\u001b[K     |█████████▊                      | 337kB 18.7MB/s eta 0:00:01\r\u001b[K     |██████████                      | 348kB 18.7MB/s eta 0:00:01\r\u001b[K     |██████████▎                     | 358kB 18.7MB/s eta 0:00:01\r\u001b[K     |██████████▋                     | 368kB 18.7MB/s eta 0:00:01\r\u001b[K     |██████████▉                     | 378kB 18.7MB/s eta 0:00:01\r\u001b[K     |███████████▏                    | 389kB 18.7MB/s eta 0:00:01\r\u001b[K     |███████████▌                    | 399kB 18.7MB/s eta 0:00:01\r\u001b[K     |███████████▊                    | 409kB 18.7MB/s eta 0:00:01\r\u001b[K     |████████████                    | 419kB 18.7MB/s eta 0:00:01\r\u001b[K     |████████████▍                   | 430kB 18.7MB/s eta 0:00:01\r\u001b[K     |████████████▋                   | 440kB 18.7MB/s eta 0:00:01\r\u001b[K     |█████████████                   | 450kB 18.7MB/s eta 0:00:01\r\u001b[K     |█████████████▎                  | 460kB 18.7MB/s eta 0:00:01\r\u001b[K     |█████████████▌                  | 471kB 18.7MB/s eta 0:00:01\r\u001b[K     |█████████████▉                  | 481kB 18.7MB/s eta 0:00:01\r\u001b[K     |██████████████                  | 491kB 18.7MB/s eta 0:00:01\r\u001b[K     |██████████████▍                 | 501kB 18.7MB/s eta 0:00:01\r\u001b[K     |██████████████▊                 | 512kB 18.7MB/s eta 0:00:01\r\u001b[K     |███████████████                 | 522kB 18.7MB/s eta 0:00:01\r\u001b[K     |███████████████▎                | 532kB 18.7MB/s eta 0:00:01\r\u001b[K     |███████████████▋                | 542kB 18.7MB/s eta 0:00:01\r\u001b[K     |███████████████▉                | 552kB 18.7MB/s eta 0:00:01\r\u001b[K     |████████████████▏               | 563kB 18.7MB/s eta 0:00:01\r\u001b[K     |████████████████▌               | 573kB 18.7MB/s eta 0:00:01\r\u001b[K     |████████████████▊               | 583kB 18.7MB/s eta 0:00:01\r\u001b[K     |█████████████████               | 593kB 18.7MB/s eta 0:00:01\r\u001b[K     |█████████████████▍              | 604kB 18.7MB/s eta 0:00:01\r\u001b[K     |█████████████████▋              | 614kB 18.7MB/s eta 0:00:01\r\u001b[K     |██████████████████              | 624kB 18.7MB/s eta 0:00:01\r\u001b[K     |██████████████████▏             | 634kB 18.7MB/s eta 0:00:01\r\u001b[K     |██████████████████▌             | 645kB 18.7MB/s eta 0:00:01\r\u001b[K     |██████████████████▉             | 655kB 18.7MB/s eta 0:00:01\r\u001b[K     |███████████████████             | 665kB 18.7MB/s eta 0:00:01\r\u001b[K     |███████████████████▍            | 675kB 18.7MB/s eta 0:00:01\r\u001b[K     |███████████████████▊            | 686kB 18.7MB/s eta 0:00:01\r\u001b[K     |████████████████████            | 696kB 18.7MB/s eta 0:00:01\r\u001b[K     |████████████████████▎           | 706kB 18.7MB/s eta 0:00:01\r\u001b[K     |████████████████████▋           | 716kB 18.7MB/s eta 0:00:01\r\u001b[K     |████████████████████▉           | 727kB 18.7MB/s eta 0:00:01\r\u001b[K     |█████████████████████▏          | 737kB 18.7MB/s eta 0:00:01\r\u001b[K     |█████████████████████▌          | 747kB 18.7MB/s eta 0:00:01\r\u001b[K     |█████████████████████▊          | 757kB 18.7MB/s eta 0:00:01\r\u001b[K     |██████████████████████          | 768kB 18.7MB/s eta 0:00:01\r\u001b[K     |██████████████████████▎         | 778kB 18.7MB/s eta 0:00:01\r\u001b[K     |██████████████████████▋         | 788kB 18.7MB/s eta 0:00:01\r\u001b[K     |███████████████████████         | 798kB 18.7MB/s eta 0:00:01\r\u001b[K     |███████████████████████▏        | 808kB 18.7MB/s eta 0:00:01\r\u001b[K     |███████████████████████▌        | 819kB 18.7MB/s eta 0:00:01\r\u001b[K     |███████████████████████▉        | 829kB 18.7MB/s eta 0:00:01\r\u001b[K     |████████████████████████        | 839kB 18.7MB/s eta 0:00:01\r\u001b[K     |████████████████████████▍       | 849kB 18.7MB/s eta 0:00:01\r\u001b[K     |████████████████████████▊       | 860kB 18.7MB/s eta 0:00:01\r\u001b[K     |█████████████████████████       | 870kB 18.7MB/s eta 0:00:01\r\u001b[K     |█████████████████████████▎      | 880kB 18.7MB/s eta 0:00:01\r\u001b[K     |█████████████████████████▋      | 890kB 18.7MB/s eta 0:00:01\r\u001b[K     |█████████████████████████▉      | 901kB 18.7MB/s eta 0:00:01\r\u001b[K     |██████████████████████████▏     | 911kB 18.7MB/s eta 0:00:01\r\u001b[K     |██████████████████████████▌     | 921kB 18.7MB/s eta 0:00:01\r\u001b[K     |██████████████████████████▊     | 931kB 18.7MB/s eta 0:00:01\r\u001b[K     |███████████████████████████     | 942kB 18.7MB/s eta 0:00:01\r\u001b[K     |███████████████████████████▎    | 952kB 18.7MB/s eta 0:00:01\r\u001b[K     |███████████████████████████▋    | 962kB 18.7MB/s eta 0:00:01\r\u001b[K     |████████████████████████████    | 972kB 18.7MB/s eta 0:00:01\r\u001b[K     |████████████████████████████▏   | 983kB 18.7MB/s eta 0:00:01\r\u001b[K     |████████████████████████████▌   | 993kB 18.7MB/s eta 0:00:01\r\u001b[K     |████████████████████████████▉   | 1.0MB 18.7MB/s eta 0:00:01\r\u001b[K     |█████████████████████████████   | 1.0MB 18.7MB/s eta 0:00:01\r\u001b[K     |█████████████████████████████▍  | 1.0MB 18.7MB/s eta 0:00:01\r\u001b[K     |█████████████████████████████▊  | 1.0MB 18.7MB/s eta 0:00:01\r\u001b[K     |██████████████████████████████  | 1.0MB 18.7MB/s eta 0:00:01\r\u001b[K     |██████████████████████████████▎ | 1.1MB 18.7MB/s eta 0:00:01\r\u001b[K     |██████████████████████████████▋ | 1.1MB 18.7MB/s eta 0:00:01\r\u001b[K     |██████████████████████████████▉ | 1.1MB 18.7MB/s eta 0:00:01\r\u001b[K     |███████████████████████████████▏| 1.1MB 18.7MB/s eta 0:00:01\r\u001b[K     |███████████████████████████████▍| 1.1MB 18.7MB/s eta 0:00:01\r\u001b[K     |███████████████████████████████▊| 1.1MB 18.7MB/s eta 0:00:01\r\u001b[K     |████████████████████████████████| 1.1MB 18.7MB/s \n",
            "\u001b[?25hInstalling collected packages: sentencepiece\n",
            "Successfully installed sentencepiece-0.1.94\n",
            "--2020-12-01 19:47:31--  https://raw.githubusercontent.com/moussaKam/transfer_learning_transformers/main/sentencepiece.french.model\n",
            "Resolving raw.githubusercontent.com (raw.githubusercontent.com)... 151.101.0.133, 151.101.64.133, 151.101.128.133, ...\n",
            "Connecting to raw.githubusercontent.com (raw.githubusercontent.com)|151.101.0.133|:443... connected.\n",
            "HTTP request sent, awaiting response... 200 OK\n",
            "Length: 1115362 (1.1M) [application/octet-stream]\n",
            "Saving to: ‘sentencepiece.french.model’\n",
            "\n",
            "sentencepiece.frenc 100%[===================>]   1.06M  --.-KB/s    in 0.02s   \n",
            "\n",
            "2020-12-01 19:47:31 (48.9 MB/s) - ‘sentencepiece.french.model’ saved [1115362/1115362]\n",
            "\n",
            "['▁Bonjour', '▁les', '▁amis', '!']\n",
            "Bonjour les amis!\n"
          ],
          "name": "stdout"
        }
      ]
    },
    {
      "cell_type": "code",
      "metadata": {
        "id": "TtLlV05pkQI3"
      },
      "source": [
        "def infer_next_token(sent):\n",
        "    model.eval()\n",
        "    sent_pieces = s.encode_as_pieces(sent)\n",
        "    source = [token2ind['<sos>']] + [token2ind[el] for el in sent_pieces]\n",
        "    source = torch.tensor(source).to(device)\n",
        "    source = source.reshape(-1, 1)\n",
        "    src_mask = model.base.generate_square_subsequent_mask(source.size(0)).to(device)\n",
        "    out = model(source, src_mask)\n",
        "    next_token_ind = out[-1].argmax(-1)\n",
        "    return next_token_ind, out\n",
        "    \n",
        "def infer_next_tokens(sent, max_len=50):\n",
        "    # to be implemented\n",
        "    max_len -= len(sent.split(' '))\n",
        "    current_sentence, i = sent, 0\n",
        "    while i < max_len:\n",
        "        next_token_ind, _ = infer_next_token(current_sentence)\n",
        "        encoded_next_word = ind2token[next_token_ind.item()]\n",
        "        decoded_next_word = s.decode_pieces([encoded_next_word])\n",
        "        if decoded_next_word == \"<eos>\":\n",
        "            break\n",
        "        current_sentence += ' ' + decoded_next_word\n",
        "        i += 1\n",
        "    return current_sentence"
      ],
      "execution_count": 16,
      "outputs": []
    },
    {
      "cell_type": "code",
      "metadata": {
        "id": "f83Nn5nSly4v",
        "colab": {
          "base_uri": "https://localhost:8080/",
          "height": 35
        },
        "outputId": "a4a39a35-ca75-495f-ba94-11ec920049bc"
      },
      "source": [
        "sent = \"Bonjour les\"\n",
        "infer_next_tokens(sent)"
      ],
      "execution_count": 17,
      "outputs": [
        {
          "output_type": "execute_result",
          "data": {
            "application/vnd.google.colaboratory.intrinsic+json": {
              "type": "string"
            },
            "text/plain": [
              "'Bonjour les gens qui ont été très accueillants et sympathiques .'"
            ]
          },
          "metadata": {
            "tags": []
          },
          "execution_count": 17
        }
      ]
    },
    {
      "cell_type": "markdown",
      "metadata": {
        "id": "Lp7mjVzomoZ3"
      },
      "source": [
        "### Supervised task"
      ]
    },
    {
      "cell_type": "code",
      "metadata": {
        "id": "0K1BZsblmEmx",
        "colab": {
          "base_uri": "https://localhost:8080/"
        },
        "outputId": "7d44a77e-00b9-4034-dcd0-733fb18598d7"
      },
      "source": [
        "!wget https://raw.githubusercontent.com/moussaKam/transfer_learning_transformers/main/cls-books/train.review.spm\n",
        "!wget https://raw.githubusercontent.com/moussaKam/transfer_learning_transformers/main/cls-books/train.label\n",
        "!wget https://raw.githubusercontent.com/moussaKam/transfer_learning_transformers/main/cls-books/test.review.spm\n",
        "!wget https://raw.githubusercontent.com/moussaKam/transfer_learning_transformers/main/cls-books/test.label\n",
        "\n",
        "path_data_train = \"train.review.spm\"\n",
        "path_labels_train = \"train.label\"\n",
        "\n",
        "path_data_valid = \"test.review.spm\"\n",
        "path_labels_valid = \"test.label\""
      ],
      "execution_count": 18,
      "outputs": [
        {
          "output_type": "stream",
          "text": [
            "--2020-12-01 19:47:31--  https://raw.githubusercontent.com/moussaKam/transfer_learning_transformers/main/cls-books/train.review.spm\n",
            "Resolving raw.githubusercontent.com (raw.githubusercontent.com)... 151.101.0.133, 151.101.64.133, 151.101.128.133, ...\n",
            "Connecting to raw.githubusercontent.com (raw.githubusercontent.com)|151.101.0.133|:443... connected.\n",
            "HTTP request sent, awaiting response... 200 OK\n",
            "Length: 1495960 (1.4M) [text/plain]\n",
            "Saving to: ‘train.review.spm’\n",
            "\n",
            "\rtrain.review.spm      0%[                    ]       0  --.-KB/s               \rtrain.review.spm    100%[===================>]   1.43M  --.-KB/s    in 0.03s   \n",
            "\n",
            "2020-12-01 19:47:31 (44.3 MB/s) - ‘train.review.spm’ saved [1495960/1495960]\n",
            "\n",
            "--2020-12-01 19:47:32--  https://raw.githubusercontent.com/moussaKam/transfer_learning_transformers/main/cls-books/train.label\n",
            "Resolving raw.githubusercontent.com (raw.githubusercontent.com)... 151.101.0.133, 151.101.64.133, 151.101.128.133, ...\n",
            "Connecting to raw.githubusercontent.com (raw.githubusercontent.com)|151.101.0.133|:443... connected.\n",
            "HTTP request sent, awaiting response... 200 OK\n",
            "Length: 3200 (3.1K) [text/plain]\n",
            "Saving to: ‘train.label’\n",
            "\n",
            "train.label         100%[===================>]   3.12K  --.-KB/s    in 0s      \n",
            "\n",
            "2020-12-01 19:47:32 (79.0 MB/s) - ‘train.label’ saved [3200/3200]\n",
            "\n",
            "--2020-12-01 19:47:32--  https://raw.githubusercontent.com/moussaKam/transfer_learning_transformers/main/cls-books/test.review.spm\n",
            "Resolving raw.githubusercontent.com (raw.githubusercontent.com)... 151.101.0.133, 151.101.64.133, 151.101.128.133, ...\n",
            "Connecting to raw.githubusercontent.com (raw.githubusercontent.com)|151.101.0.133|:443... connected.\n",
            "HTTP request sent, awaiting response... 200 OK\n",
            "Length: 1864544 (1.8M) [text/plain]\n",
            "Saving to: ‘test.review.spm’\n",
            "\n",
            "test.review.spm     100%[===================>]   1.78M  --.-KB/s    in 0.03s   \n",
            "\n",
            "2020-12-01 19:47:32 (69.0 MB/s) - ‘test.review.spm’ saved [1864544/1864544]\n",
            "\n",
            "--2020-12-01 19:47:32--  https://raw.githubusercontent.com/moussaKam/transfer_learning_transformers/main/cls-books/test.label\n",
            "Resolving raw.githubusercontent.com (raw.githubusercontent.com)... 151.101.0.133, 151.101.64.133, 151.101.128.133, ...\n",
            "Connecting to raw.githubusercontent.com (raw.githubusercontent.com)|151.101.0.133|:443... connected.\n",
            "HTTP request sent, awaiting response... 200 OK\n",
            "Length: 4000 (3.9K) [text/plain]\n",
            "Saving to: ‘test.label’\n",
            "\n",
            "test.label          100%[===================>]   3.91K  --.-KB/s    in 0s      \n",
            "\n",
            "2020-12-01 19:47:32 (45.2 MB/s) - ‘test.label’ saved [4000/4000]\n",
            "\n"
          ],
          "name": "stdout"
        }
      ]
    },
    {
      "cell_type": "code",
      "metadata": {
        "id": "_MLfvjiom2SL"
      },
      "source": [
        "# a function to evaluate the validation accuracy of the model.\n",
        "def evaluate_accuracy(data_loader):\n",
        "    #to be implemented\n",
        "    model.eval()\n",
        "    total_correct_predictions = total_length = 0\n",
        "    for idx, (input_data, target_data) in enumerate(data_loader):\n",
        "        src_mask = model.base.generate_square_subsequent_mask(\n",
        "            input_data.size(0)\n",
        "        ).to(device)\n",
        "        input_data = input_data.to(device)\n",
        "        output = model(input_data, src_mask)\n",
        "        output = output[-1]\n",
        "        output = output.view(-1, output.shape[-1])\n",
        "        max_prob_indices = output.argmax(-1)\n",
        "        target_data = target_data.to(device)\n",
        "        total_length += target_data.shape[0]\n",
        "        correct_predictions = torch.sum(target_data == max_prob_indices)\n",
        "        total_correct_predictions += correct_predictions.item()\n",
        "    return total_correct_predictions / total_length"
      ],
      "execution_count": 19,
      "outputs": []
    },
    {
      "cell_type": "code",
      "metadata": {
        "id": "qzmx7T7xoa6v"
      },
      "source": [
        "#save the base model to be loaded later in the fine-tuning phase\n",
        "torch.save({\"model_state_dict\": model.base.state_dict(),}, \"pretrained_model_4layers_no_class_head.pt\")"
      ],
      "execution_count": 20,
      "outputs": []
    },
    {
      "cell_type": "code",
      "metadata": {
        "id": "i-xclMCpnVpw",
        "colab": {
          "base_uri": "https://localhost:8080/"
        },
        "outputId": "51a625cb-048f-46a1-c9d4-5bc6b6ebe439"
      },
      "source": [
        "from_scratch_settings = [True, False]\n",
        "\n",
        "from_scratch_valid_acc = []\n",
        "pretrained_valid_acc = []\n",
        "lr = 0.0001\n",
        "\n",
        "for from_scratch in from_scratch_settings:\n",
        "    model = Model(ntokens, nhead, nhid, nlayers, 2, dropout).to(device)\n",
        "    criterion = nn.CrossEntropyLoss()\n",
        "    optimizer = torch.optim.Adam(model.parameters(), lr=lr)\n",
        "    if not from_scratch:\n",
        "        print(\"=====PRETRAINED MODEL======\")\n",
        "        #load checkpoint\n",
        "        checkpoint = torch.load(\"pretrained_model_4layers_no_class_head.pt\")\n",
        "        #load state dict\n",
        "        model.base.load_state_dict(checkpoint['model_state_dict'])\n",
        "    else:\n",
        "        print(\"=====Training FROM SCRATCH======\")\n",
        "    epochs = 15\n",
        "    for epoch in range(1, epochs + 1):\n",
        "        train(\n",
        "            path_data_train,\n",
        "            path_labels_train,\n",
        "            save_interval=-1,\n",
        "            task='classification',\n",
        "            batch_size=8,\n",
        "            log_interval=50,\n",
        "        )\n",
        "        acc = evaluate_accuracy(\n",
        "            get_loader(\n",
        "                path_data_valid,\n",
        "                path_labels_valid,\n",
        "                token2ind=token2ind,\n",
        "                batch_size=20,\n",
        "                task='classification',\n",
        "            )\n",
        "        )\n",
        "        print(f\"\\nCurrent accuracy: {acc}\\n\")\n",
        "        if from_scratch:\n",
        "            from_scratch_valid_acc.append(acc)\n",
        "        else:\n",
        "            pretrained_valid_acc.append(acc)"
      ],
      "execution_count": 30,
      "outputs": [
        {
          "output_type": "stream",
          "text": [
            "  2%|▏         | 3/200 [00:00<00:07, 26.31it/s]"
          ],
          "name": "stderr"
        },
        {
          "output_type": "stream",
          "text": [
            "=====Training FROM SCRATCH======\n"
          ],
          "name": "stdout"
        },
        {
          "output_type": "stream",
          "text": [
            " 28%|██▊       | 57/200 [00:01<00:03, 36.63it/s]"
          ],
          "name": "stderr"
        },
        {
          "output_type": "stream",
          "text": [
            "| epoch   1 |    50/  200 steps | loss 0.76233 | ppl    2.143\n"
          ],
          "name": "stdout"
        },
        {
          "output_type": "stream",
          "text": [
            " 54%|█████▍    | 108/200 [00:03<00:02, 36.39it/s]"
          ],
          "name": "stderr"
        },
        {
          "output_type": "stream",
          "text": [
            "| epoch   1 |   100/  200 steps | loss 0.71709 | ppl    2.048\n"
          ],
          "name": "stdout"
        },
        {
          "output_type": "stream",
          "text": [
            " 78%|███████▊  | 156/200 [00:04<00:01, 37.50it/s]"
          ],
          "name": "stderr"
        },
        {
          "output_type": "stream",
          "text": [
            "| epoch   1 |   150/  200 steps | loss 0.73031 | ppl    2.076\n"
          ],
          "name": "stdout"
        },
        {
          "output_type": "stream",
          "text": [
            "100%|██████████| 200/200 [00:05<00:00, 36.29it/s]\n",
            "  2%|▏         | 3/200 [00:00<00:06, 29.88it/s]"
          ],
          "name": "stderr"
        },
        {
          "output_type": "stream",
          "text": [
            "\n",
            "Current accuracy: 0.5085\n",
            "\n"
          ],
          "name": "stdout"
        },
        {
          "output_type": "stream",
          "text": [
            " 28%|██▊       | 56/200 [00:01<00:03, 38.72it/s]"
          ],
          "name": "stderr"
        },
        {
          "output_type": "stream",
          "text": [
            "| epoch   2 |    50/  200 steps | loss 0.70172 | ppl    2.017\n"
          ],
          "name": "stdout"
        },
        {
          "output_type": "stream",
          "text": [
            " 53%|█████▎    | 106/200 [00:02<00:02, 36.54it/s]"
          ],
          "name": "stderr"
        },
        {
          "output_type": "stream",
          "text": [
            "| epoch   2 |   100/  200 steps | loss 0.65849 | ppl    1.932\n"
          ],
          "name": "stdout"
        },
        {
          "output_type": "stream",
          "text": [
            " 79%|███████▉  | 158/200 [00:04<00:01, 39.48it/s]"
          ],
          "name": "stderr"
        },
        {
          "output_type": "stream",
          "text": [
            "| epoch   2 |   150/  200 steps | loss 0.59100 | ppl    1.806\n"
          ],
          "name": "stdout"
        },
        {
          "output_type": "stream",
          "text": [
            "100%|██████████| 200/200 [00:05<00:00, 36.97it/s]\n",
            "  2%|▎         | 5/200 [00:00<00:04, 39.29it/s]"
          ],
          "name": "stderr"
        },
        {
          "output_type": "stream",
          "text": [
            "\n",
            "Current accuracy: 0.6805\n",
            "\n"
          ],
          "name": "stdout"
        },
        {
          "output_type": "stream",
          "text": [
            " 28%|██▊       | 57/200 [00:01<00:03, 38.09it/s]"
          ],
          "name": "stderr"
        },
        {
          "output_type": "stream",
          "text": [
            "| epoch   3 |    50/  200 steps | loss 0.45437 | ppl    1.575\n"
          ],
          "name": "stdout"
        },
        {
          "output_type": "stream",
          "text": [
            " 54%|█████▍    | 108/200 [00:02<00:02, 36.35it/s]"
          ],
          "name": "stderr"
        },
        {
          "output_type": "stream",
          "text": [
            "| epoch   3 |   100/  200 steps | loss 0.40084 | ppl    1.493\n"
          ],
          "name": "stdout"
        },
        {
          "output_type": "stream",
          "text": [
            " 78%|███████▊  | 157/200 [00:04<00:01, 35.86it/s]"
          ],
          "name": "stderr"
        },
        {
          "output_type": "stream",
          "text": [
            "| epoch   3 |   150/  200 steps | loss 0.43416 | ppl    1.544\n"
          ],
          "name": "stdout"
        },
        {
          "output_type": "stream",
          "text": [
            "100%|██████████| 200/200 [00:05<00:00, 37.01it/s]\n",
            "  2%|▏         | 4/200 [00:00<00:05, 37.00it/s]"
          ],
          "name": "stderr"
        },
        {
          "output_type": "stream",
          "text": [
            "\n",
            "Current accuracy: 0.7345\n",
            "\n"
          ],
          "name": "stdout"
        },
        {
          "output_type": "stream",
          "text": [
            " 28%|██▊       | 56/200 [00:01<00:04, 35.91it/s]"
          ],
          "name": "stderr"
        },
        {
          "output_type": "stream",
          "text": [
            "| epoch   4 |    50/  200 steps | loss 0.19241 | ppl    1.212\n"
          ],
          "name": "stdout"
        },
        {
          "output_type": "stream",
          "text": [
            " 52%|█████▎    | 105/200 [00:02<00:02, 36.34it/s]"
          ],
          "name": "stderr"
        },
        {
          "output_type": "stream",
          "text": [
            "| epoch   4 |   100/  200 steps | loss 0.17498 | ppl    1.191\n"
          ],
          "name": "stdout"
        },
        {
          "output_type": "stream",
          "text": [
            " 78%|███████▊  | 157/200 [00:04<00:01, 38.99it/s]"
          ],
          "name": "stderr"
        },
        {
          "output_type": "stream",
          "text": [
            "| epoch   4 |   150/  200 steps | loss 0.17527 | ppl    1.192\n"
          ],
          "name": "stdout"
        },
        {
          "output_type": "stream",
          "text": [
            "100%|██████████| 200/200 [00:05<00:00, 36.65it/s]\n",
            "  2%|▏         | 4/200 [00:00<00:04, 39.63it/s]"
          ],
          "name": "stderr"
        },
        {
          "output_type": "stream",
          "text": [
            "\n",
            "Current accuracy: 0.726\n",
            "\n"
          ],
          "name": "stdout"
        },
        {
          "output_type": "stream",
          "text": [
            " 29%|██▉       | 58/200 [00:01<00:03, 38.62it/s]"
          ],
          "name": "stderr"
        },
        {
          "output_type": "stream",
          "text": [
            "| epoch   5 |    50/  200 steps | loss 0.01455 | ppl    1.015\n"
          ],
          "name": "stdout"
        },
        {
          "output_type": "stream",
          "text": [
            " 55%|█████▍    | 109/200 [00:02<00:02, 39.89it/s]"
          ],
          "name": "stderr"
        },
        {
          "output_type": "stream",
          "text": [
            "| epoch   5 |   100/  200 steps | loss 0.05165 | ppl    1.053\n"
          ],
          "name": "stdout"
        },
        {
          "output_type": "stream",
          "text": [
            " 78%|███████▊  | 156/200 [00:04<00:01, 37.61it/s]"
          ],
          "name": "stderr"
        },
        {
          "output_type": "stream",
          "text": [
            "| epoch   5 |   150/  200 steps | loss 0.02998 | ppl    1.030\n"
          ],
          "name": "stdout"
        },
        {
          "output_type": "stream",
          "text": [
            "100%|██████████| 200/200 [00:05<00:00, 37.31it/s]\n",
            "  2%|▏         | 4/200 [00:00<00:05, 35.77it/s]"
          ],
          "name": "stderr"
        },
        {
          "output_type": "stream",
          "text": [
            "\n",
            "Current accuracy: 0.754\n",
            "\n"
          ],
          "name": "stdout"
        },
        {
          "output_type": "stream",
          "text": [
            " 28%|██▊       | 55/200 [00:01<00:03, 40.54it/s]"
          ],
          "name": "stderr"
        },
        {
          "output_type": "stream",
          "text": [
            "| epoch   6 |    50/  200 steps | loss 0.00844 | ppl    1.008\n"
          ],
          "name": "stdout"
        },
        {
          "output_type": "stream",
          "text": [
            " 54%|█████▍    | 108/200 [00:02<00:02, 37.88it/s]"
          ],
          "name": "stderr"
        },
        {
          "output_type": "stream",
          "text": [
            "| epoch   6 |   100/  200 steps | loss 0.00372 | ppl    1.004\n"
          ],
          "name": "stdout"
        },
        {
          "output_type": "stream",
          "text": [
            " 79%|███████▉  | 158/200 [00:04<00:01, 37.75it/s]"
          ],
          "name": "stderr"
        },
        {
          "output_type": "stream",
          "text": [
            "| epoch   6 |   150/  200 steps | loss 0.01595 | ppl    1.016\n"
          ],
          "name": "stdout"
        },
        {
          "output_type": "stream",
          "text": [
            "100%|██████████| 200/200 [00:05<00:00, 37.88it/s]\n",
            "  2%|▎         | 5/200 [00:00<00:04, 43.20it/s]"
          ],
          "name": "stderr"
        },
        {
          "output_type": "stream",
          "text": [
            "\n",
            "Current accuracy: 0.745\n",
            "\n"
          ],
          "name": "stdout"
        },
        {
          "output_type": "stream",
          "text": [
            " 29%|██▉       | 58/200 [00:01<00:04, 34.70it/s]"
          ],
          "name": "stderr"
        },
        {
          "output_type": "stream",
          "text": [
            "| epoch   7 |    50/  200 steps | loss 0.00005 | ppl    1.000\n"
          ],
          "name": "stdout"
        },
        {
          "output_type": "stream",
          "text": [
            " 54%|█████▍    | 108/200 [00:02<00:02, 38.19it/s]"
          ],
          "name": "stderr"
        },
        {
          "output_type": "stream",
          "text": [
            "| epoch   7 |   100/  200 steps | loss 0.00464 | ppl    1.005\n"
          ],
          "name": "stdout"
        },
        {
          "output_type": "stream",
          "text": [
            " 78%|███████▊  | 155/200 [00:04<00:01, 40.78it/s]"
          ],
          "name": "stderr"
        },
        {
          "output_type": "stream",
          "text": [
            "| epoch   7 |   150/  200 steps | loss 0.00004 | ppl    1.000\n"
          ],
          "name": "stdout"
        },
        {
          "output_type": "stream",
          "text": [
            "100%|██████████| 200/200 [00:05<00:00, 37.57it/s]\n",
            "  2%|▏         | 4/200 [00:00<00:05, 34.64it/s]"
          ],
          "name": "stderr"
        },
        {
          "output_type": "stream",
          "text": [
            "\n",
            "Current accuracy: 0.7475\n",
            "\n"
          ],
          "name": "stdout"
        },
        {
          "output_type": "stream",
          "text": [
            " 29%|██▉       | 58/200 [00:01<00:03, 38.55it/s]"
          ],
          "name": "stderr"
        },
        {
          "output_type": "stream",
          "text": [
            "| epoch   8 |    50/  200 steps | loss 0.00004 | ppl    1.000\n"
          ],
          "name": "stdout"
        },
        {
          "output_type": "stream",
          "text": [
            " 53%|█████▎    | 106/200 [00:02<00:02, 37.63it/s]"
          ],
          "name": "stderr"
        },
        {
          "output_type": "stream",
          "text": [
            "| epoch   8 |   100/  200 steps | loss 0.00002 | ppl    1.000\n"
          ],
          "name": "stdout"
        },
        {
          "output_type": "stream",
          "text": [
            " 78%|███████▊  | 157/200 [00:04<00:01, 38.38it/s]"
          ],
          "name": "stderr"
        },
        {
          "output_type": "stream",
          "text": [
            "| epoch   8 |   150/  200 steps | loss 0.00001 | ppl    1.000\n"
          ],
          "name": "stdout"
        },
        {
          "output_type": "stream",
          "text": [
            "100%|██████████| 200/200 [00:05<00:00, 38.00it/s]\n",
            "  2%|▏         | 4/200 [00:00<00:05, 36.76it/s]"
          ],
          "name": "stderr"
        },
        {
          "output_type": "stream",
          "text": [
            "\n",
            "Current accuracy: 0.7385\n",
            "\n"
          ],
          "name": "stdout"
        },
        {
          "output_type": "stream",
          "text": [
            " 27%|██▋       | 54/200 [00:01<00:04, 34.48it/s]"
          ],
          "name": "stderr"
        },
        {
          "output_type": "stream",
          "text": [
            "| epoch   9 |    50/  200 steps | loss 0.00004 | ppl    1.000\n"
          ],
          "name": "stdout"
        },
        {
          "output_type": "stream",
          "text": [
            " 54%|█████▎    | 107/200 [00:02<00:02, 38.36it/s]"
          ],
          "name": "stderr"
        },
        {
          "output_type": "stream",
          "text": [
            "| epoch   9 |   100/  200 steps | loss 0.00001 | ppl    1.000\n"
          ],
          "name": "stdout"
        },
        {
          "output_type": "stream",
          "text": [
            " 78%|███████▊  | 156/200 [00:04<00:01, 37.81it/s]"
          ],
          "name": "stderr"
        },
        {
          "output_type": "stream",
          "text": [
            "| epoch   9 |   150/  200 steps | loss 0.00001 | ppl    1.000\n"
          ],
          "name": "stdout"
        },
        {
          "output_type": "stream",
          "text": [
            "100%|██████████| 200/200 [00:05<00:00, 37.74it/s]\n",
            "  2%|▏         | 4/200 [00:00<00:05, 36.38it/s]"
          ],
          "name": "stderr"
        },
        {
          "output_type": "stream",
          "text": [
            "\n",
            "Current accuracy: 0.755\n",
            "\n"
          ],
          "name": "stdout"
        },
        {
          "output_type": "stream",
          "text": [
            " 28%|██▊       | 57/200 [00:01<00:03, 39.58it/s]"
          ],
          "name": "stderr"
        },
        {
          "output_type": "stream",
          "text": [
            "| epoch  10 |    50/  200 steps | loss 0.00001 | ppl    1.000\n"
          ],
          "name": "stdout"
        },
        {
          "output_type": "stream",
          "text": [
            " 52%|█████▎    | 105/200 [00:02<00:02, 35.40it/s]"
          ],
          "name": "stderr"
        },
        {
          "output_type": "stream",
          "text": [
            "| epoch  10 |   100/  200 steps | loss 0.00001 | ppl    1.000\n"
          ],
          "name": "stdout"
        },
        {
          "output_type": "stream",
          "text": [
            " 78%|███████▊  | 155/200 [00:04<00:01, 39.19it/s]"
          ],
          "name": "stderr"
        },
        {
          "output_type": "stream",
          "text": [
            "| epoch  10 |   150/  200 steps | loss 0.00001 | ppl    1.000\n"
          ],
          "name": "stdout"
        },
        {
          "output_type": "stream",
          "text": [
            "100%|██████████| 200/200 [00:05<00:00, 37.78it/s]\n",
            "  2%|▏         | 4/200 [00:00<00:04, 39.85it/s]"
          ],
          "name": "stderr"
        },
        {
          "output_type": "stream",
          "text": [
            "\n",
            "Current accuracy: 0.7515\n",
            "\n"
          ],
          "name": "stdout"
        },
        {
          "output_type": "stream",
          "text": [
            " 29%|██▉       | 58/200 [00:01<00:03, 38.46it/s]"
          ],
          "name": "stderr"
        },
        {
          "output_type": "stream",
          "text": [
            "| epoch  11 |    50/  200 steps | loss 0.00001 | ppl    1.000\n"
          ],
          "name": "stdout"
        },
        {
          "output_type": "stream",
          "text": [
            " 53%|█████▎    | 106/200 [00:02<00:02, 39.75it/s]"
          ],
          "name": "stderr"
        },
        {
          "output_type": "stream",
          "text": [
            "| epoch  11 |   100/  200 steps | loss 0.00001 | ppl    1.000\n"
          ],
          "name": "stdout"
        },
        {
          "output_type": "stream",
          "text": [
            " 78%|███████▊  | 157/200 [00:04<00:01, 36.69it/s]"
          ],
          "name": "stderr"
        },
        {
          "output_type": "stream",
          "text": [
            "| epoch  11 |   150/  200 steps | loss 0.00001 | ppl    1.000\n"
          ],
          "name": "stdout"
        },
        {
          "output_type": "stream",
          "text": [
            "100%|██████████| 200/200 [00:05<00:00, 37.75it/s]\n",
            "  2%|▏         | 4/200 [00:00<00:05, 35.49it/s]"
          ],
          "name": "stderr"
        },
        {
          "output_type": "stream",
          "text": [
            "\n",
            "Current accuracy: 0.756\n",
            "\n"
          ],
          "name": "stdout"
        },
        {
          "output_type": "stream",
          "text": [
            " 28%|██▊       | 55/200 [00:01<00:03, 37.50it/s]"
          ],
          "name": "stderr"
        },
        {
          "output_type": "stream",
          "text": [
            "| epoch  12 |    50/  200 steps | loss 0.00001 | ppl    1.000\n"
          ],
          "name": "stdout"
        },
        {
          "output_type": "stream",
          "text": [
            " 52%|█████▏    | 104/200 [00:02<00:02, 37.67it/s]"
          ],
          "name": "stderr"
        },
        {
          "output_type": "stream",
          "text": [
            "| epoch  12 |   100/  200 steps | loss 0.00001 | ppl    1.000\n"
          ],
          "name": "stdout"
        },
        {
          "output_type": "stream",
          "text": [
            " 77%|███████▋  | 154/200 [00:04<00:01, 34.47it/s]"
          ],
          "name": "stderr"
        },
        {
          "output_type": "stream",
          "text": [
            "| epoch  12 |   150/  200 steps | loss 0.00001 | ppl    1.000\n"
          ],
          "name": "stdout"
        },
        {
          "output_type": "stream",
          "text": [
            "100%|██████████| 200/200 [00:05<00:00, 37.04it/s]\n",
            "  2%|▎         | 5/200 [00:00<00:05, 38.58it/s]"
          ],
          "name": "stderr"
        },
        {
          "output_type": "stream",
          "text": [
            "\n",
            "Current accuracy: 0.757\n",
            "\n"
          ],
          "name": "stdout"
        },
        {
          "output_type": "stream",
          "text": [
            " 28%|██▊       | 55/200 [00:01<00:03, 37.23it/s]"
          ],
          "name": "stderr"
        },
        {
          "output_type": "stream",
          "text": [
            "| epoch  13 |    50/  200 steps | loss 0.00001 | ppl    1.000\n"
          ],
          "name": "stdout"
        },
        {
          "output_type": "stream",
          "text": [
            " 53%|█████▎    | 106/200 [00:02<00:02, 36.96it/s]"
          ],
          "name": "stderr"
        },
        {
          "output_type": "stream",
          "text": [
            "| epoch  13 |   100/  200 steps | loss 0.00001 | ppl    1.000\n"
          ],
          "name": "stdout"
        },
        {
          "output_type": "stream",
          "text": [
            " 78%|███████▊  | 156/200 [00:04<00:01, 34.87it/s]"
          ],
          "name": "stderr"
        },
        {
          "output_type": "stream",
          "text": [
            "| epoch  13 |   150/  200 steps | loss 0.00001 | ppl    1.000\n"
          ],
          "name": "stdout"
        },
        {
          "output_type": "stream",
          "text": [
            "100%|██████████| 200/200 [00:05<00:00, 37.01it/s]\n",
            "  2%|▏         | 4/200 [00:00<00:05, 32.96it/s]"
          ],
          "name": "stderr"
        },
        {
          "output_type": "stream",
          "text": [
            "\n",
            "Current accuracy: 0.756\n",
            "\n"
          ],
          "name": "stdout"
        },
        {
          "output_type": "stream",
          "text": [
            " 29%|██▉       | 58/200 [00:01<00:03, 36.07it/s]"
          ],
          "name": "stderr"
        },
        {
          "output_type": "stream",
          "text": [
            "| epoch  14 |    50/  200 steps | loss 0.00001 | ppl    1.000\n"
          ],
          "name": "stdout"
        },
        {
          "output_type": "stream",
          "text": [
            " 54%|█████▎    | 107/200 [00:02<00:02, 37.94it/s]"
          ],
          "name": "stderr"
        },
        {
          "output_type": "stream",
          "text": [
            "| epoch  14 |   100/  200 steps | loss 0.00000 | ppl    1.000\n"
          ],
          "name": "stdout"
        },
        {
          "output_type": "stream",
          "text": [
            " 78%|███████▊  | 157/200 [00:04<00:01, 38.47it/s]"
          ],
          "name": "stderr"
        },
        {
          "output_type": "stream",
          "text": [
            "| epoch  14 |   150/  200 steps | loss 0.00000 | ppl    1.000\n"
          ],
          "name": "stdout"
        },
        {
          "output_type": "stream",
          "text": [
            "100%|██████████| 200/200 [00:05<00:00, 37.31it/s]\n",
            "  2%|▏         | 4/200 [00:00<00:05, 33.65it/s]"
          ],
          "name": "stderr"
        },
        {
          "output_type": "stream",
          "text": [
            "\n",
            "Current accuracy: 0.7545\n",
            "\n"
          ],
          "name": "stdout"
        },
        {
          "output_type": "stream",
          "text": [
            " 28%|██▊       | 57/200 [00:01<00:03, 41.09it/s]"
          ],
          "name": "stderr"
        },
        {
          "output_type": "stream",
          "text": [
            "| epoch  15 |    50/  200 steps | loss 0.00000 | ppl    1.000\n"
          ],
          "name": "stdout"
        },
        {
          "output_type": "stream",
          "text": [
            " 55%|█████▍    | 109/200 [00:02<00:02, 36.96it/s]"
          ],
          "name": "stderr"
        },
        {
          "output_type": "stream",
          "text": [
            "| epoch  15 |   100/  200 steps | loss 0.00000 | ppl    1.000\n"
          ],
          "name": "stdout"
        },
        {
          "output_type": "stream",
          "text": [
            " 78%|███████▊  | 157/200 [00:04<00:01, 36.42it/s]"
          ],
          "name": "stderr"
        },
        {
          "output_type": "stream",
          "text": [
            "| epoch  15 |   150/  200 steps | loss 0.00000 | ppl    1.000\n"
          ],
          "name": "stdout"
        },
        {
          "output_type": "stream",
          "text": [
            "100%|██████████| 200/200 [00:05<00:00, 37.41it/s]\n"
          ],
          "name": "stderr"
        },
        {
          "output_type": "stream",
          "text": [
            "\n",
            "Current accuracy: 0.755\n",
            "\n",
            "=====PRETRAINED MODEL======\n"
          ],
          "name": "stdout"
        },
        {
          "output_type": "stream",
          "text": [
            " 29%|██▉       | 58/200 [00:01<00:03, 36.60it/s]"
          ],
          "name": "stderr"
        },
        {
          "output_type": "stream",
          "text": [
            "| epoch   1 |    50/  200 steps | loss 0.74040 | ppl    2.097\n"
          ],
          "name": "stdout"
        },
        {
          "output_type": "stream",
          "text": [
            " 54%|█████▎    | 107/200 [00:02<00:02, 38.65it/s]"
          ],
          "name": "stderr"
        },
        {
          "output_type": "stream",
          "text": [
            "| epoch   1 |   100/  200 steps | loss 0.66223 | ppl    1.939\n"
          ],
          "name": "stdout"
        },
        {
          "output_type": "stream",
          "text": [
            " 78%|███████▊  | 155/200 [00:04<00:01, 31.21it/s]"
          ],
          "name": "stderr"
        },
        {
          "output_type": "stream",
          "text": [
            "| epoch   1 |   150/  200 steps | loss 0.63008 | ppl    1.878\n"
          ],
          "name": "stdout"
        },
        {
          "output_type": "stream",
          "text": [
            "100%|██████████| 200/200 [00:05<00:00, 35.58it/s]\n",
            "  2%|▏         | 4/200 [00:00<00:05, 35.07it/s]"
          ],
          "name": "stderr"
        },
        {
          "output_type": "stream",
          "text": [
            "\n",
            "Current accuracy: 0.7625\n",
            "\n"
          ],
          "name": "stdout"
        },
        {
          "output_type": "stream",
          "text": [
            " 28%|██▊       | 56/200 [00:01<00:04, 32.65it/s]"
          ],
          "name": "stderr"
        },
        {
          "output_type": "stream",
          "text": [
            "| epoch   2 |    50/  200 steps | loss 0.45943 | ppl    1.583\n"
          ],
          "name": "stdout"
        },
        {
          "output_type": "stream",
          "text": [
            " 52%|█████▎    | 105/200 [00:03<00:02, 35.43it/s]"
          ],
          "name": "stderr"
        },
        {
          "output_type": "stream",
          "text": [
            "| epoch   2 |   100/  200 steps | loss 0.43244 | ppl    1.541\n"
          ],
          "name": "stdout"
        },
        {
          "output_type": "stream",
          "text": [
            " 78%|███████▊  | 157/200 [00:04<00:01, 35.57it/s]"
          ],
          "name": "stderr"
        },
        {
          "output_type": "stream",
          "text": [
            "| epoch   2 |   150/  200 steps | loss 0.47243 | ppl    1.604\n"
          ],
          "name": "stdout"
        },
        {
          "output_type": "stream",
          "text": [
            "100%|██████████| 200/200 [00:05<00:00, 35.86it/s]\n",
            "  2%|▎         | 5/200 [00:00<00:04, 40.47it/s]"
          ],
          "name": "stderr"
        },
        {
          "output_type": "stream",
          "text": [
            "\n",
            "Current accuracy: 0.797\n",
            "\n"
          ],
          "name": "stdout"
        },
        {
          "output_type": "stream",
          "text": [
            " 27%|██▋       | 54/200 [00:01<00:03, 37.08it/s]"
          ],
          "name": "stderr"
        },
        {
          "output_type": "stream",
          "text": [
            "| epoch   3 |    50/  200 steps | loss 0.27411 | ppl    1.315\n"
          ],
          "name": "stdout"
        },
        {
          "output_type": "stream",
          "text": [
            " 53%|█████▎    | 106/200 [00:02<00:02, 39.20it/s]"
          ],
          "name": "stderr"
        },
        {
          "output_type": "stream",
          "text": [
            "| epoch   3 |   100/  200 steps | loss 0.34152 | ppl    1.407\n"
          ],
          "name": "stdout"
        },
        {
          "output_type": "stream",
          "text": [
            " 77%|███████▋  | 154/200 [00:04<00:01, 34.94it/s]"
          ],
          "name": "stderr"
        },
        {
          "output_type": "stream",
          "text": [
            "| epoch   3 |   150/  200 steps | loss 0.37627 | ppl    1.457\n"
          ],
          "name": "stdout"
        },
        {
          "output_type": "stream",
          "text": [
            "100%|██████████| 200/200 [00:05<00:00, 35.87it/s]\n",
            "  2%|▏         | 4/200 [00:00<00:06, 32.27it/s]"
          ],
          "name": "stderr"
        },
        {
          "output_type": "stream",
          "text": [
            "\n",
            "Current accuracy: 0.7845\n",
            "\n"
          ],
          "name": "stdout"
        },
        {
          "output_type": "stream",
          "text": [
            " 28%|██▊       | 56/200 [00:01<00:03, 37.39it/s]"
          ],
          "name": "stderr"
        },
        {
          "output_type": "stream",
          "text": [
            "| epoch   4 |    50/  200 steps | loss 0.23328 | ppl    1.263\n"
          ],
          "name": "stdout"
        },
        {
          "output_type": "stream",
          "text": [
            " 52%|█████▎    | 105/200 [00:02<00:02, 35.61it/s]"
          ],
          "name": "stderr"
        },
        {
          "output_type": "stream",
          "text": [
            "| epoch   4 |   100/  200 steps | loss 0.29208 | ppl    1.339\n"
          ],
          "name": "stdout"
        },
        {
          "output_type": "stream",
          "text": [
            " 78%|███████▊  | 155/200 [00:04<00:01, 34.00it/s]"
          ],
          "name": "stderr"
        },
        {
          "output_type": "stream",
          "text": [
            "| epoch   4 |   150/  200 steps | loss 0.15162 | ppl    1.164\n"
          ],
          "name": "stdout"
        },
        {
          "output_type": "stream",
          "text": [
            "100%|██████████| 200/200 [00:05<00:00, 36.42it/s]\n",
            "  2%|▏         | 4/200 [00:00<00:06, 32.57it/s]"
          ],
          "name": "stderr"
        },
        {
          "output_type": "stream",
          "text": [
            "\n",
            "Current accuracy: 0.798\n",
            "\n"
          ],
          "name": "stdout"
        },
        {
          "output_type": "stream",
          "text": [
            " 28%|██▊       | 56/200 [00:01<00:04, 33.16it/s]"
          ],
          "name": "stderr"
        },
        {
          "output_type": "stream",
          "text": [
            "| epoch   5 |    50/  200 steps | loss 0.22560 | ppl    1.253\n"
          ],
          "name": "stdout"
        },
        {
          "output_type": "stream",
          "text": [
            " 54%|█████▍    | 108/200 [00:02<00:02, 38.19it/s]"
          ],
          "name": "stderr"
        },
        {
          "output_type": "stream",
          "text": [
            "| epoch   5 |   100/  200 steps | loss 0.10937 | ppl    1.116\n"
          ],
          "name": "stdout"
        },
        {
          "output_type": "stream",
          "text": [
            " 77%|███████▋  | 154/200 [00:04<00:01, 35.63it/s]"
          ],
          "name": "stderr"
        },
        {
          "output_type": "stream",
          "text": [
            "| epoch   5 |   150/  200 steps | loss 0.26133 | ppl    1.299\n"
          ],
          "name": "stdout"
        },
        {
          "output_type": "stream",
          "text": [
            "100%|██████████| 200/200 [00:05<00:00, 36.32it/s]\n",
            "  2%|▏         | 4/200 [00:00<00:05, 33.87it/s]"
          ],
          "name": "stderr"
        },
        {
          "output_type": "stream",
          "text": [
            "\n",
            "Current accuracy: 0.8015\n",
            "\n"
          ],
          "name": "stdout"
        },
        {
          "output_type": "stream",
          "text": [
            " 28%|██▊       | 56/200 [00:01<00:03, 38.02it/s]"
          ],
          "name": "stderr"
        },
        {
          "output_type": "stream",
          "text": [
            "| epoch   6 |    50/  200 steps | loss 0.09859 | ppl    1.104\n"
          ],
          "name": "stdout"
        },
        {
          "output_type": "stream",
          "text": [
            " 54%|█████▍    | 108/200 [00:02<00:02, 36.85it/s]"
          ],
          "name": "stderr"
        },
        {
          "output_type": "stream",
          "text": [
            "| epoch   6 |   100/  200 steps | loss 0.02596 | ppl    1.026\n"
          ],
          "name": "stdout"
        },
        {
          "output_type": "stream",
          "text": [
            " 78%|███████▊  | 155/200 [00:04<00:01, 36.02it/s]"
          ],
          "name": "stderr"
        },
        {
          "output_type": "stream",
          "text": [
            "| epoch   6 |   150/  200 steps | loss 0.08864 | ppl    1.093\n"
          ],
          "name": "stdout"
        },
        {
          "output_type": "stream",
          "text": [
            "100%|██████████| 200/200 [00:05<00:00, 36.72it/s]\n",
            "  2%|▏         | 4/200 [00:00<00:05, 35.28it/s]"
          ],
          "name": "stderr"
        },
        {
          "output_type": "stream",
          "text": [
            "\n",
            "Current accuracy: 0.7915\n",
            "\n"
          ],
          "name": "stdout"
        },
        {
          "output_type": "stream",
          "text": [
            " 30%|██▉       | 59/200 [00:01<00:03, 38.83it/s]"
          ],
          "name": "stderr"
        },
        {
          "output_type": "stream",
          "text": [
            "| epoch   7 |    50/  200 steps | loss 0.00220 | ppl    1.002\n"
          ],
          "name": "stdout"
        },
        {
          "output_type": "stream",
          "text": [
            " 53%|█████▎    | 106/200 [00:02<00:02, 38.76it/s]"
          ],
          "name": "stderr"
        },
        {
          "output_type": "stream",
          "text": [
            "| epoch   7 |   100/  200 steps | loss 0.03040 | ppl    1.031\n"
          ],
          "name": "stdout"
        },
        {
          "output_type": "stream",
          "text": [
            " 78%|███████▊  | 156/200 [00:04<00:01, 37.80it/s]"
          ],
          "name": "stderr"
        },
        {
          "output_type": "stream",
          "text": [
            "| epoch   7 |   150/  200 steps | loss 0.02571 | ppl    1.026\n"
          ],
          "name": "stdout"
        },
        {
          "output_type": "stream",
          "text": [
            "100%|██████████| 200/200 [00:05<00:00, 37.08it/s]\n",
            "  2%|▏         | 4/200 [00:00<00:05, 34.21it/s]"
          ],
          "name": "stderr"
        },
        {
          "output_type": "stream",
          "text": [
            "\n",
            "Current accuracy: 0.7915\n",
            "\n"
          ],
          "name": "stdout"
        },
        {
          "output_type": "stream",
          "text": [
            " 29%|██▉       | 58/200 [00:01<00:03, 35.62it/s]"
          ],
          "name": "stderr"
        },
        {
          "output_type": "stream",
          "text": [
            "| epoch   8 |    50/  200 steps | loss 0.04319 | ppl    1.044\n"
          ],
          "name": "stdout"
        },
        {
          "output_type": "stream",
          "text": [
            " 54%|█████▎    | 107/200 [00:02<00:02, 39.41it/s]"
          ],
          "name": "stderr"
        },
        {
          "output_type": "stream",
          "text": [
            "| epoch   8 |   100/  200 steps | loss 0.01876 | ppl    1.019\n"
          ],
          "name": "stdout"
        },
        {
          "output_type": "stream",
          "text": [
            " 78%|███████▊  | 155/200 [00:04<00:01, 35.60it/s]"
          ],
          "name": "stderr"
        },
        {
          "output_type": "stream",
          "text": [
            "| epoch   8 |   150/  200 steps | loss 0.00092 | ppl    1.001\n"
          ],
          "name": "stdout"
        },
        {
          "output_type": "stream",
          "text": [
            "100%|██████████| 200/200 [00:05<00:00, 37.38it/s]\n",
            "  2%|▏         | 4/200 [00:00<00:05, 36.97it/s]"
          ],
          "name": "stderr"
        },
        {
          "output_type": "stream",
          "text": [
            "\n",
            "Current accuracy: 0.789\n",
            "\n"
          ],
          "name": "stdout"
        },
        {
          "output_type": "stream",
          "text": [
            " 28%|██▊       | 56/200 [00:01<00:03, 38.40it/s]"
          ],
          "name": "stderr"
        },
        {
          "output_type": "stream",
          "text": [
            "| epoch   9 |    50/  200 steps | loss 0.00335 | ppl    1.003\n"
          ],
          "name": "stdout"
        },
        {
          "output_type": "stream",
          "text": [
            " 54%|█████▎    | 107/200 [00:02<00:02, 35.22it/s]"
          ],
          "name": "stderr"
        },
        {
          "output_type": "stream",
          "text": [
            "| epoch   9 |   100/  200 steps | loss 0.01705 | ppl    1.017\n"
          ],
          "name": "stdout"
        },
        {
          "output_type": "stream",
          "text": [
            " 78%|███████▊  | 157/200 [00:04<00:01, 35.90it/s]"
          ],
          "name": "stderr"
        },
        {
          "output_type": "stream",
          "text": [
            "| epoch   9 |   150/  200 steps | loss 0.00008 | ppl    1.000\n"
          ],
          "name": "stdout"
        },
        {
          "output_type": "stream",
          "text": [
            "100%|██████████| 200/200 [00:05<00:00, 37.03it/s]\n",
            "  2%|▏         | 4/200 [00:00<00:05, 36.18it/s]"
          ],
          "name": "stderr"
        },
        {
          "output_type": "stream",
          "text": [
            "\n",
            "Current accuracy: 0.7815\n",
            "\n"
          ],
          "name": "stdout"
        },
        {
          "output_type": "stream",
          "text": [
            " 28%|██▊       | 55/200 [00:01<00:04, 35.38it/s]"
          ],
          "name": "stderr"
        },
        {
          "output_type": "stream",
          "text": [
            "| epoch  10 |    50/  200 steps | loss 0.00001 | ppl    1.000\n"
          ],
          "name": "stdout"
        },
        {
          "output_type": "stream",
          "text": [
            " 55%|█████▍    | 109/200 [00:02<00:02, 37.55it/s]"
          ],
          "name": "stderr"
        },
        {
          "output_type": "stream",
          "text": [
            "| epoch  10 |   100/  200 steps | loss 0.00346 | ppl    1.003\n"
          ],
          "name": "stdout"
        },
        {
          "output_type": "stream",
          "text": [
            " 78%|███████▊  | 157/200 [00:04<00:01, 35.76it/s]"
          ],
          "name": "stderr"
        },
        {
          "output_type": "stream",
          "text": [
            "| epoch  10 |   150/  200 steps | loss 0.01855 | ppl    1.019\n"
          ],
          "name": "stdout"
        },
        {
          "output_type": "stream",
          "text": [
            "100%|██████████| 200/200 [00:05<00:00, 36.74it/s]\n",
            "  2%|▏         | 4/200 [00:00<00:05, 38.93it/s]"
          ],
          "name": "stderr"
        },
        {
          "output_type": "stream",
          "text": [
            "\n",
            "Current accuracy: 0.7865\n",
            "\n"
          ],
          "name": "stdout"
        },
        {
          "output_type": "stream",
          "text": [
            " 27%|██▋       | 54/200 [00:01<00:04, 35.84it/s]"
          ],
          "name": "stderr"
        },
        {
          "output_type": "stream",
          "text": [
            "| epoch  11 |    50/  200 steps | loss 0.00002 | ppl    1.000\n"
          ],
          "name": "stdout"
        },
        {
          "output_type": "stream",
          "text": [
            " 53%|█████▎    | 106/200 [00:02<00:02, 39.84it/s]"
          ],
          "name": "stderr"
        },
        {
          "output_type": "stream",
          "text": [
            "| epoch  11 |   100/  200 steps | loss 0.00002 | ppl    1.000\n"
          ],
          "name": "stdout"
        },
        {
          "output_type": "stream",
          "text": [
            " 78%|███████▊  | 156/200 [00:04<00:01, 37.52it/s]"
          ],
          "name": "stderr"
        },
        {
          "output_type": "stream",
          "text": [
            "| epoch  11 |   150/  200 steps | loss 0.00002 | ppl    1.000\n"
          ],
          "name": "stdout"
        },
        {
          "output_type": "stream",
          "text": [
            "100%|██████████| 200/200 [00:05<00:00, 37.20it/s]\n",
            "  2%|▏         | 3/200 [00:00<00:06, 29.23it/s]"
          ],
          "name": "stderr"
        },
        {
          "output_type": "stream",
          "text": [
            "\n",
            "Current accuracy: 0.784\n",
            "\n"
          ],
          "name": "stdout"
        },
        {
          "output_type": "stream",
          "text": [
            " 28%|██▊       | 56/200 [00:01<00:03, 36.26it/s]"
          ],
          "name": "stderr"
        },
        {
          "output_type": "stream",
          "text": [
            "| epoch  12 |    50/  200 steps | loss 0.00004 | ppl    1.000\n"
          ],
          "name": "stdout"
        },
        {
          "output_type": "stream",
          "text": [
            " 54%|█████▍    | 108/200 [00:02<00:02, 40.10it/s]"
          ],
          "name": "stderr"
        },
        {
          "output_type": "stream",
          "text": [
            "| epoch  12 |   100/  200 steps | loss 0.00491 | ppl    1.005\n"
          ],
          "name": "stdout"
        },
        {
          "output_type": "stream",
          "text": [
            " 78%|███████▊  | 156/200 [00:04<00:01, 36.31it/s]"
          ],
          "name": "stderr"
        },
        {
          "output_type": "stream",
          "text": [
            "| epoch  12 |   150/  200 steps | loss 0.01199 | ppl    1.012\n"
          ],
          "name": "stdout"
        },
        {
          "output_type": "stream",
          "text": [
            "100%|██████████| 200/200 [00:05<00:00, 36.86it/s]\n",
            "  2%|▏         | 4/200 [00:00<00:05, 38.28it/s]"
          ],
          "name": "stderr"
        },
        {
          "output_type": "stream",
          "text": [
            "\n",
            "Current accuracy: 0.786\n",
            "\n"
          ],
          "name": "stdout"
        },
        {
          "output_type": "stream",
          "text": [
            " 28%|██▊       | 56/200 [00:01<00:03, 36.65it/s]"
          ],
          "name": "stderr"
        },
        {
          "output_type": "stream",
          "text": [
            "| epoch  13 |    50/  200 steps | loss 0.00002 | ppl    1.000\n"
          ],
          "name": "stdout"
        },
        {
          "output_type": "stream",
          "text": [
            " 53%|█████▎    | 106/200 [00:02<00:02, 37.56it/s]"
          ],
          "name": "stderr"
        },
        {
          "output_type": "stream",
          "text": [
            "| epoch  13 |   100/  200 steps | loss 0.00001 | ppl    1.000\n"
          ],
          "name": "stdout"
        },
        {
          "output_type": "stream",
          "text": [
            " 78%|███████▊  | 156/200 [00:04<00:01, 37.61it/s]"
          ],
          "name": "stderr"
        },
        {
          "output_type": "stream",
          "text": [
            "| epoch  13 |   150/  200 steps | loss 0.00000 | ppl    1.000\n"
          ],
          "name": "stdout"
        },
        {
          "output_type": "stream",
          "text": [
            "100%|██████████| 200/200 [00:05<00:00, 37.06it/s]\n",
            "  2%|▏         | 4/200 [00:00<00:05, 35.56it/s]"
          ],
          "name": "stderr"
        },
        {
          "output_type": "stream",
          "text": [
            "\n",
            "Current accuracy: 0.7825\n",
            "\n"
          ],
          "name": "stdout"
        },
        {
          "output_type": "stream",
          "text": [
            " 28%|██▊       | 57/200 [00:01<00:04, 33.66it/s]"
          ],
          "name": "stderr"
        },
        {
          "output_type": "stream",
          "text": [
            "| epoch  14 |    50/  200 steps | loss 0.00000 | ppl    1.000\n"
          ],
          "name": "stdout"
        },
        {
          "output_type": "stream",
          "text": [
            " 53%|█████▎    | 106/200 [00:02<00:02, 38.88it/s]"
          ],
          "name": "stderr"
        },
        {
          "output_type": "stream",
          "text": [
            "| epoch  14 |   100/  200 steps | loss 0.00002 | ppl    1.000\n"
          ],
          "name": "stdout"
        },
        {
          "output_type": "stream",
          "text": [
            " 78%|███████▊  | 157/200 [00:04<00:01, 39.24it/s]"
          ],
          "name": "stderr"
        },
        {
          "output_type": "stream",
          "text": [
            "| epoch  14 |   150/  200 steps | loss 0.00000 | ppl    1.000\n"
          ],
          "name": "stdout"
        },
        {
          "output_type": "stream",
          "text": [
            "100%|██████████| 200/200 [00:05<00:00, 37.20it/s]\n",
            "  2%|▎         | 5/200 [00:00<00:05, 38.77it/s]"
          ],
          "name": "stderr"
        },
        {
          "output_type": "stream",
          "text": [
            "\n",
            "Current accuracy: 0.7835\n",
            "\n"
          ],
          "name": "stdout"
        },
        {
          "output_type": "stream",
          "text": [
            " 28%|██▊       | 55/200 [00:01<00:04, 34.56it/s]"
          ],
          "name": "stderr"
        },
        {
          "output_type": "stream",
          "text": [
            "| epoch  15 |    50/  200 steps | loss 0.00000 | ppl    1.000\n"
          ],
          "name": "stdout"
        },
        {
          "output_type": "stream",
          "text": [
            " 52%|█████▎    | 105/200 [00:02<00:02, 34.60it/s]"
          ],
          "name": "stderr"
        },
        {
          "output_type": "stream",
          "text": [
            "| epoch  15 |   100/  200 steps | loss 0.00000 | ppl    1.000\n"
          ],
          "name": "stdout"
        },
        {
          "output_type": "stream",
          "text": [
            " 78%|███████▊  | 157/200 [00:04<00:01, 37.86it/s]"
          ],
          "name": "stderr"
        },
        {
          "output_type": "stream",
          "text": [
            "| epoch  15 |   150/  200 steps | loss 0.00000 | ppl    1.000\n"
          ],
          "name": "stdout"
        },
        {
          "output_type": "stream",
          "text": [
            "100%|██████████| 200/200 [00:05<00:00, 35.93it/s]\n"
          ],
          "name": "stderr"
        },
        {
          "output_type": "stream",
          "text": [
            "\n",
            "Current accuracy: 0.7885\n",
            "\n"
          ],
          "name": "stdout"
        }
      ]
    },
    {
      "cell_type": "code",
      "metadata": {
        "id": "RCpBIdTHojm6",
        "colab": {
          "base_uri": "https://localhost:8080/",
          "height": 279
        },
        "outputId": "041154bd-1b77-491a-f408-274878490c6b"
      },
      "source": [
        "#Visualize the accuracy\n",
        "import matplotlib.pyplot as plt\n",
        "plt.plot(pretrained_valid_acc, 'c', label=\"Pretrained accuracy\")\n",
        "plt.plot(from_scratch_valid_acc, 'm', label=\"From scratch accuracy\")\n",
        "plt.xlabel(\"Epochs\")\n",
        "plt.ylabel(\"Accuracy\")\n",
        "plt.legend()\n",
        "plt.show()"
      ],
      "execution_count": 32,
      "outputs": [
        {
          "output_type": "display_data",
          "data": {
            "image/png": "[encoded data removed]",
            "text/plain": [
              "<Figure size 432x288 with 1 Axes>"
            ]
          },
          "metadata": {
            "tags": [],
            "needs_background": "light"
          }
        }
      ]
    }
  ]
}